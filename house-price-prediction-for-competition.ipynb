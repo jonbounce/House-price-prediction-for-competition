{
 "cells": [
  {
   "cell_type": "markdown",
   "id": "clear-electron",
   "metadata": {
    "papermill": {
     "duration": 0.037573,
     "end_time": "2021-06-07T01:37:20.408132",
     "exception": false,
     "start_time": "2021-06-07T01:37:20.370559",
     "status": "completed"
    },
    "tags": []
   },
   "source": [
    "<h2>HOUSE PRICING REGRESSION</h2>"
   ]
  },
  {
   "cell_type": "markdown",
   "id": "dietary-petite",
   "metadata": {
    "papermill": {
     "duration": 0.035721,
     "end_time": "2021-06-07T01:37:20.480007",
     "exception": false,
     "start_time": "2021-06-07T01:37:20.444286",
     "status": "completed"
    },
    "tags": []
   },
   "source": [
    "<h3>1. IMPORTING THE NECESSARY LIBRARY</h3>"
   ]
  },
  {
   "cell_type": "code",
   "execution_count": 1,
   "id": "sitting-jungle",
   "metadata": {
    "execution": {
     "iopub.execute_input": "2021-06-07T01:37:20.556923Z",
     "iopub.status.busy": "2021-06-07T01:37:20.555759Z",
     "iopub.status.idle": "2021-06-07T01:37:21.776589Z",
     "shell.execute_reply": "2021-06-07T01:37:21.775403Z",
     "shell.execute_reply.started": "2021-06-07T01:23:56.014995Z"
    },
    "papermill": {
     "duration": 1.260604,
     "end_time": "2021-06-07T01:37:21.776771",
     "exception": false,
     "start_time": "2021-06-07T01:37:20.516167",
     "status": "completed"
    },
    "tags": []
   },
   "outputs": [],
   "source": [
    "import numpy as np \n",
    "import pandas as pd\n",
    "import seaborn as sns\n",
    "import matplotlib.pyplot as plt\n",
    "from sklearn.ensemble import RandomForestRegressor\n",
    "from sklearn.metrics import mean_absolute_error\n",
    "import xgboost as XGB\n",
    "from sklearn.model_selection import train_test_split\n",
    "from scipy import stats\n",
    "from scipy.stats import norm, skew\n",
    "import warnings\n",
    "warnings.filterwarnings(\"ignore\")"
   ]
  },
  {
   "cell_type": "code",
   "execution_count": null,
   "id": "unusual-bottom",
   "metadata": {
    "papermill": {
     "duration": 0.037326,
     "end_time": "2021-06-07T01:37:21.852104",
     "exception": false,
     "start_time": "2021-06-07T01:37:21.814778",
     "status": "completed"
    },
    "tags": []
   },
   "outputs": [],
   "source": []
  },
  {
   "cell_type": "markdown",
   "id": "surprised-kinase",
   "metadata": {
    "papermill": {
     "duration": 0.038403,
     "end_time": "2021-06-07T01:37:21.928139",
     "exception": false,
     "start_time": "2021-06-07T01:37:21.889736",
     "status": "completed"
    },
    "tags": []
   },
   "source": [
    "<h2>2. DATA VISUALIZATION</h2>"
   ]
  },
  {
   "cell_type": "markdown",
   "id": "smart-jerusalem",
   "metadata": {
    "papermill": {
     "duration": 0.038771,
     "end_time": "2021-06-07T01:37:22.004304",
     "exception": false,
     "start_time": "2021-06-07T01:37:21.965533",
     "status": "completed"
    },
    "tags": []
   },
   "source": [
    "<h4>Reading train and test data</h4>"
   ]
  },
  {
   "cell_type": "code",
   "execution_count": 2,
   "id": "administrative-pixel",
   "metadata": {
    "_kg_hide-output": true,
    "execution": {
     "iopub.execute_input": "2021-06-07T01:37:22.115714Z",
     "iopub.status.busy": "2021-06-07T01:37:22.114994Z",
     "iopub.status.idle": "2021-06-07T01:37:22.221819Z",
     "shell.execute_reply": "2021-06-07T01:37:22.222284Z",
     "shell.execute_reply.started": "2021-06-07T01:25:08.361807Z"
    },
    "papermill": {
     "duration": 0.163885,
     "end_time": "2021-06-07T01:37:22.222474",
     "exception": false,
     "start_time": "2021-06-07T01:37:22.058589",
     "status": "completed"
    },
    "tags": []
   },
   "outputs": [
    {
     "data": {
      "text/html": [
       "<div>\n",
       "<style scoped>\n",
       "    .dataframe tbody tr th:only-of-type {\n",
       "        vertical-align: middle;\n",
       "    }\n",
       "\n",
       "    .dataframe tbody tr th {\n",
       "        vertical-align: top;\n",
       "    }\n",
       "\n",
       "    .dataframe thead th {\n",
       "        text-align: right;\n",
       "    }\n",
       "</style>\n",
       "<table border=\"1\" class=\"dataframe\">\n",
       "  <thead>\n",
       "    <tr style=\"text-align: right;\">\n",
       "      <th></th>\n",
       "      <th>Id</th>\n",
       "      <th>MSSubClass</th>\n",
       "      <th>MSZoning</th>\n",
       "      <th>LotFrontage</th>\n",
       "      <th>LotArea</th>\n",
       "      <th>Street</th>\n",
       "      <th>Alley</th>\n",
       "      <th>LotShape</th>\n",
       "      <th>LandContour</th>\n",
       "      <th>Utilities</th>\n",
       "      <th>...</th>\n",
       "      <th>PoolArea</th>\n",
       "      <th>PoolQC</th>\n",
       "      <th>Fence</th>\n",
       "      <th>MiscFeature</th>\n",
       "      <th>MiscVal</th>\n",
       "      <th>MoSold</th>\n",
       "      <th>YrSold</th>\n",
       "      <th>SaleType</th>\n",
       "      <th>SaleCondition</th>\n",
       "      <th>SalePrice</th>\n",
       "    </tr>\n",
       "  </thead>\n",
       "  <tbody>\n",
       "    <tr>\n",
       "      <th>0</th>\n",
       "      <td>1</td>\n",
       "      <td>60</td>\n",
       "      <td>RL</td>\n",
       "      <td>65.0</td>\n",
       "      <td>8450</td>\n",
       "      <td>Pave</td>\n",
       "      <td>NaN</td>\n",
       "      <td>Reg</td>\n",
       "      <td>Lvl</td>\n",
       "      <td>AllPub</td>\n",
       "      <td>...</td>\n",
       "      <td>0</td>\n",
       "      <td>NaN</td>\n",
       "      <td>NaN</td>\n",
       "      <td>NaN</td>\n",
       "      <td>0</td>\n",
       "      <td>2</td>\n",
       "      <td>2008</td>\n",
       "      <td>WD</td>\n",
       "      <td>Normal</td>\n",
       "      <td>208500</td>\n",
       "    </tr>\n",
       "    <tr>\n",
       "      <th>1</th>\n",
       "      <td>2</td>\n",
       "      <td>20</td>\n",
       "      <td>RL</td>\n",
       "      <td>80.0</td>\n",
       "      <td>9600</td>\n",
       "      <td>Pave</td>\n",
       "      <td>NaN</td>\n",
       "      <td>Reg</td>\n",
       "      <td>Lvl</td>\n",
       "      <td>AllPub</td>\n",
       "      <td>...</td>\n",
       "      <td>0</td>\n",
       "      <td>NaN</td>\n",
       "      <td>NaN</td>\n",
       "      <td>NaN</td>\n",
       "      <td>0</td>\n",
       "      <td>5</td>\n",
       "      <td>2007</td>\n",
       "      <td>WD</td>\n",
       "      <td>Normal</td>\n",
       "      <td>181500</td>\n",
       "    </tr>\n",
       "    <tr>\n",
       "      <th>2</th>\n",
       "      <td>3</td>\n",
       "      <td>60</td>\n",
       "      <td>RL</td>\n",
       "      <td>68.0</td>\n",
       "      <td>11250</td>\n",
       "      <td>Pave</td>\n",
       "      <td>NaN</td>\n",
       "      <td>IR1</td>\n",
       "      <td>Lvl</td>\n",
       "      <td>AllPub</td>\n",
       "      <td>...</td>\n",
       "      <td>0</td>\n",
       "      <td>NaN</td>\n",
       "      <td>NaN</td>\n",
       "      <td>NaN</td>\n",
       "      <td>0</td>\n",
       "      <td>9</td>\n",
       "      <td>2008</td>\n",
       "      <td>WD</td>\n",
       "      <td>Normal</td>\n",
       "      <td>223500</td>\n",
       "    </tr>\n",
       "    <tr>\n",
       "      <th>3</th>\n",
       "      <td>4</td>\n",
       "      <td>70</td>\n",
       "      <td>RL</td>\n",
       "      <td>60.0</td>\n",
       "      <td>9550</td>\n",
       "      <td>Pave</td>\n",
       "      <td>NaN</td>\n",
       "      <td>IR1</td>\n",
       "      <td>Lvl</td>\n",
       "      <td>AllPub</td>\n",
       "      <td>...</td>\n",
       "      <td>0</td>\n",
       "      <td>NaN</td>\n",
       "      <td>NaN</td>\n",
       "      <td>NaN</td>\n",
       "      <td>0</td>\n",
       "      <td>2</td>\n",
       "      <td>2006</td>\n",
       "      <td>WD</td>\n",
       "      <td>Abnorml</td>\n",
       "      <td>140000</td>\n",
       "    </tr>\n",
       "    <tr>\n",
       "      <th>4</th>\n",
       "      <td>5</td>\n",
       "      <td>60</td>\n",
       "      <td>RL</td>\n",
       "      <td>84.0</td>\n",
       "      <td>14260</td>\n",
       "      <td>Pave</td>\n",
       "      <td>NaN</td>\n",
       "      <td>IR1</td>\n",
       "      <td>Lvl</td>\n",
       "      <td>AllPub</td>\n",
       "      <td>...</td>\n",
       "      <td>0</td>\n",
       "      <td>NaN</td>\n",
       "      <td>NaN</td>\n",
       "      <td>NaN</td>\n",
       "      <td>0</td>\n",
       "      <td>12</td>\n",
       "      <td>2008</td>\n",
       "      <td>WD</td>\n",
       "      <td>Normal</td>\n",
       "      <td>250000</td>\n",
       "    </tr>\n",
       "  </tbody>\n",
       "</table>\n",
       "<p>5 rows × 81 columns</p>\n",
       "</div>"
      ],
      "text/plain": [
       "   Id  MSSubClass MSZoning  LotFrontage  LotArea Street Alley LotShape  \\\n",
       "0   1          60       RL         65.0     8450   Pave   NaN      Reg   \n",
       "1   2          20       RL         80.0     9600   Pave   NaN      Reg   \n",
       "2   3          60       RL         68.0    11250   Pave   NaN      IR1   \n",
       "3   4          70       RL         60.0     9550   Pave   NaN      IR1   \n",
       "4   5          60       RL         84.0    14260   Pave   NaN      IR1   \n",
       "\n",
       "  LandContour Utilities  ... PoolArea PoolQC Fence MiscFeature MiscVal MoSold  \\\n",
       "0         Lvl    AllPub  ...        0    NaN   NaN         NaN       0      2   \n",
       "1         Lvl    AllPub  ...        0    NaN   NaN         NaN       0      5   \n",
       "2         Lvl    AllPub  ...        0    NaN   NaN         NaN       0      9   \n",
       "3         Lvl    AllPub  ...        0    NaN   NaN         NaN       0      2   \n",
       "4         Lvl    AllPub  ...        0    NaN   NaN         NaN       0     12   \n",
       "\n",
       "  YrSold  SaleType  SaleCondition  SalePrice  \n",
       "0   2008        WD         Normal     208500  \n",
       "1   2007        WD         Normal     181500  \n",
       "2   2008        WD         Normal     223500  \n",
       "3   2006        WD        Abnorml     140000  \n",
       "4   2008        WD         Normal     250000  \n",
       "\n",
       "[5 rows x 81 columns]"
      ]
     },
     "execution_count": 2,
     "metadata": {},
     "output_type": "execute_result"
    }
   ],
   "source": [
    "X = pd.read_csv('../input/house-prices-advanced-regression-techniques/train.csv') \n",
    "test = pd.read_csv('../input/house-prices-advanced-regression-techniques/test.csv')\n",
    "y=X.SalePrice\n",
    "X.head() "
   ]
  },
  {
   "cell_type": "markdown",
   "id": "single-batch",
   "metadata": {
    "papermill": {
     "duration": 0.037738,
     "end_time": "2021-06-07T01:37:22.298500",
     "exception": false,
     "start_time": "2021-06-07T01:37:22.260762",
     "status": "completed"
    },
    "tags": []
   },
   "source": [
    "<h4>Tain Data Description</h4>"
   ]
  },
  {
   "cell_type": "code",
   "execution_count": 3,
   "id": "negative-purchase",
   "metadata": {
    "_kg_hide-input": false,
    "_kg_hide-output": true,
    "execution": {
     "iopub.execute_input": "2021-06-07T01:37:22.381209Z",
     "iopub.status.busy": "2021-06-07T01:37:22.377320Z",
     "iopub.status.idle": "2021-06-07T01:37:22.487737Z",
     "shell.execute_reply": "2021-06-07T01:37:22.488233Z",
     "shell.execute_reply.started": "2021-06-07T01:25:35.361455Z"
    },
    "papermill": {
     "duration": 0.152194,
     "end_time": "2021-06-07T01:37:22.488416",
     "exception": false,
     "start_time": "2021-06-07T01:37:22.336222",
     "status": "completed"
    },
    "tags": []
   },
   "outputs": [
    {
     "data": {
      "text/html": [
       "<div>\n",
       "<style scoped>\n",
       "    .dataframe tbody tr th:only-of-type {\n",
       "        vertical-align: middle;\n",
       "    }\n",
       "\n",
       "    .dataframe tbody tr th {\n",
       "        vertical-align: top;\n",
       "    }\n",
       "\n",
       "    .dataframe thead th {\n",
       "        text-align: right;\n",
       "    }\n",
       "</style>\n",
       "<table border=\"1\" class=\"dataframe\">\n",
       "  <thead>\n",
       "    <tr style=\"text-align: right;\">\n",
       "      <th></th>\n",
       "      <th>Id</th>\n",
       "      <th>MSSubClass</th>\n",
       "      <th>LotFrontage</th>\n",
       "      <th>LotArea</th>\n",
       "      <th>OverallQual</th>\n",
       "      <th>OverallCond</th>\n",
       "      <th>YearBuilt</th>\n",
       "      <th>YearRemodAdd</th>\n",
       "      <th>MasVnrArea</th>\n",
       "      <th>BsmtFinSF1</th>\n",
       "      <th>...</th>\n",
       "      <th>WoodDeckSF</th>\n",
       "      <th>OpenPorchSF</th>\n",
       "      <th>EnclosedPorch</th>\n",
       "      <th>3SsnPorch</th>\n",
       "      <th>ScreenPorch</th>\n",
       "      <th>PoolArea</th>\n",
       "      <th>MiscVal</th>\n",
       "      <th>MoSold</th>\n",
       "      <th>YrSold</th>\n",
       "      <th>SalePrice</th>\n",
       "    </tr>\n",
       "  </thead>\n",
       "  <tbody>\n",
       "    <tr>\n",
       "      <th>count</th>\n",
       "      <td>1460.000000</td>\n",
       "      <td>1460.000000</td>\n",
       "      <td>1201.000000</td>\n",
       "      <td>1460.000000</td>\n",
       "      <td>1460.000000</td>\n",
       "      <td>1460.000000</td>\n",
       "      <td>1460.000000</td>\n",
       "      <td>1460.000000</td>\n",
       "      <td>1452.000000</td>\n",
       "      <td>1460.000000</td>\n",
       "      <td>...</td>\n",
       "      <td>1460.000000</td>\n",
       "      <td>1460.000000</td>\n",
       "      <td>1460.000000</td>\n",
       "      <td>1460.000000</td>\n",
       "      <td>1460.000000</td>\n",
       "      <td>1460.000000</td>\n",
       "      <td>1460.000000</td>\n",
       "      <td>1460.000000</td>\n",
       "      <td>1460.000000</td>\n",
       "      <td>1460.000000</td>\n",
       "    </tr>\n",
       "    <tr>\n",
       "      <th>mean</th>\n",
       "      <td>730.500000</td>\n",
       "      <td>56.897260</td>\n",
       "      <td>70.049958</td>\n",
       "      <td>10516.828082</td>\n",
       "      <td>6.099315</td>\n",
       "      <td>5.575342</td>\n",
       "      <td>1971.267808</td>\n",
       "      <td>1984.865753</td>\n",
       "      <td>103.685262</td>\n",
       "      <td>443.639726</td>\n",
       "      <td>...</td>\n",
       "      <td>94.244521</td>\n",
       "      <td>46.660274</td>\n",
       "      <td>21.954110</td>\n",
       "      <td>3.409589</td>\n",
       "      <td>15.060959</td>\n",
       "      <td>2.758904</td>\n",
       "      <td>43.489041</td>\n",
       "      <td>6.321918</td>\n",
       "      <td>2007.815753</td>\n",
       "      <td>180921.195890</td>\n",
       "    </tr>\n",
       "    <tr>\n",
       "      <th>std</th>\n",
       "      <td>421.610009</td>\n",
       "      <td>42.300571</td>\n",
       "      <td>24.284752</td>\n",
       "      <td>9981.264932</td>\n",
       "      <td>1.382997</td>\n",
       "      <td>1.112799</td>\n",
       "      <td>30.202904</td>\n",
       "      <td>20.645407</td>\n",
       "      <td>181.066207</td>\n",
       "      <td>456.098091</td>\n",
       "      <td>...</td>\n",
       "      <td>125.338794</td>\n",
       "      <td>66.256028</td>\n",
       "      <td>61.119149</td>\n",
       "      <td>29.317331</td>\n",
       "      <td>55.757415</td>\n",
       "      <td>40.177307</td>\n",
       "      <td>496.123024</td>\n",
       "      <td>2.703626</td>\n",
       "      <td>1.328095</td>\n",
       "      <td>79442.502883</td>\n",
       "    </tr>\n",
       "    <tr>\n",
       "      <th>min</th>\n",
       "      <td>1.000000</td>\n",
       "      <td>20.000000</td>\n",
       "      <td>21.000000</td>\n",
       "      <td>1300.000000</td>\n",
       "      <td>1.000000</td>\n",
       "      <td>1.000000</td>\n",
       "      <td>1872.000000</td>\n",
       "      <td>1950.000000</td>\n",
       "      <td>0.000000</td>\n",
       "      <td>0.000000</td>\n",
       "      <td>...</td>\n",
       "      <td>0.000000</td>\n",
       "      <td>0.000000</td>\n",
       "      <td>0.000000</td>\n",
       "      <td>0.000000</td>\n",
       "      <td>0.000000</td>\n",
       "      <td>0.000000</td>\n",
       "      <td>0.000000</td>\n",
       "      <td>1.000000</td>\n",
       "      <td>2006.000000</td>\n",
       "      <td>34900.000000</td>\n",
       "    </tr>\n",
       "    <tr>\n",
       "      <th>25%</th>\n",
       "      <td>365.750000</td>\n",
       "      <td>20.000000</td>\n",
       "      <td>59.000000</td>\n",
       "      <td>7553.500000</td>\n",
       "      <td>5.000000</td>\n",
       "      <td>5.000000</td>\n",
       "      <td>1954.000000</td>\n",
       "      <td>1967.000000</td>\n",
       "      <td>0.000000</td>\n",
       "      <td>0.000000</td>\n",
       "      <td>...</td>\n",
       "      <td>0.000000</td>\n",
       "      <td>0.000000</td>\n",
       "      <td>0.000000</td>\n",
       "      <td>0.000000</td>\n",
       "      <td>0.000000</td>\n",
       "      <td>0.000000</td>\n",
       "      <td>0.000000</td>\n",
       "      <td>5.000000</td>\n",
       "      <td>2007.000000</td>\n",
       "      <td>129975.000000</td>\n",
       "    </tr>\n",
       "    <tr>\n",
       "      <th>50%</th>\n",
       "      <td>730.500000</td>\n",
       "      <td>50.000000</td>\n",
       "      <td>69.000000</td>\n",
       "      <td>9478.500000</td>\n",
       "      <td>6.000000</td>\n",
       "      <td>5.000000</td>\n",
       "      <td>1973.000000</td>\n",
       "      <td>1994.000000</td>\n",
       "      <td>0.000000</td>\n",
       "      <td>383.500000</td>\n",
       "      <td>...</td>\n",
       "      <td>0.000000</td>\n",
       "      <td>25.000000</td>\n",
       "      <td>0.000000</td>\n",
       "      <td>0.000000</td>\n",
       "      <td>0.000000</td>\n",
       "      <td>0.000000</td>\n",
       "      <td>0.000000</td>\n",
       "      <td>6.000000</td>\n",
       "      <td>2008.000000</td>\n",
       "      <td>163000.000000</td>\n",
       "    </tr>\n",
       "    <tr>\n",
       "      <th>75%</th>\n",
       "      <td>1095.250000</td>\n",
       "      <td>70.000000</td>\n",
       "      <td>80.000000</td>\n",
       "      <td>11601.500000</td>\n",
       "      <td>7.000000</td>\n",
       "      <td>6.000000</td>\n",
       "      <td>2000.000000</td>\n",
       "      <td>2004.000000</td>\n",
       "      <td>166.000000</td>\n",
       "      <td>712.250000</td>\n",
       "      <td>...</td>\n",
       "      <td>168.000000</td>\n",
       "      <td>68.000000</td>\n",
       "      <td>0.000000</td>\n",
       "      <td>0.000000</td>\n",
       "      <td>0.000000</td>\n",
       "      <td>0.000000</td>\n",
       "      <td>0.000000</td>\n",
       "      <td>8.000000</td>\n",
       "      <td>2009.000000</td>\n",
       "      <td>214000.000000</td>\n",
       "    </tr>\n",
       "    <tr>\n",
       "      <th>max</th>\n",
       "      <td>1460.000000</td>\n",
       "      <td>190.000000</td>\n",
       "      <td>313.000000</td>\n",
       "      <td>215245.000000</td>\n",
       "      <td>10.000000</td>\n",
       "      <td>9.000000</td>\n",
       "      <td>2010.000000</td>\n",
       "      <td>2010.000000</td>\n",
       "      <td>1600.000000</td>\n",
       "      <td>5644.000000</td>\n",
       "      <td>...</td>\n",
       "      <td>857.000000</td>\n",
       "      <td>547.000000</td>\n",
       "      <td>552.000000</td>\n",
       "      <td>508.000000</td>\n",
       "      <td>480.000000</td>\n",
       "      <td>738.000000</td>\n",
       "      <td>15500.000000</td>\n",
       "      <td>12.000000</td>\n",
       "      <td>2010.000000</td>\n",
       "      <td>755000.000000</td>\n",
       "    </tr>\n",
       "  </tbody>\n",
       "</table>\n",
       "<p>8 rows × 38 columns</p>\n",
       "</div>"
      ],
      "text/plain": [
       "                Id   MSSubClass  LotFrontage        LotArea  OverallQual  \\\n",
       "count  1460.000000  1460.000000  1201.000000    1460.000000  1460.000000   \n",
       "mean    730.500000    56.897260    70.049958   10516.828082     6.099315   \n",
       "std     421.610009    42.300571    24.284752    9981.264932     1.382997   \n",
       "min       1.000000    20.000000    21.000000    1300.000000     1.000000   \n",
       "25%     365.750000    20.000000    59.000000    7553.500000     5.000000   \n",
       "50%     730.500000    50.000000    69.000000    9478.500000     6.000000   \n",
       "75%    1095.250000    70.000000    80.000000   11601.500000     7.000000   \n",
       "max    1460.000000   190.000000   313.000000  215245.000000    10.000000   \n",
       "\n",
       "       OverallCond    YearBuilt  YearRemodAdd   MasVnrArea   BsmtFinSF1  ...  \\\n",
       "count  1460.000000  1460.000000   1460.000000  1452.000000  1460.000000  ...   \n",
       "mean      5.575342  1971.267808   1984.865753   103.685262   443.639726  ...   \n",
       "std       1.112799    30.202904     20.645407   181.066207   456.098091  ...   \n",
       "min       1.000000  1872.000000   1950.000000     0.000000     0.000000  ...   \n",
       "25%       5.000000  1954.000000   1967.000000     0.000000     0.000000  ...   \n",
       "50%       5.000000  1973.000000   1994.000000     0.000000   383.500000  ...   \n",
       "75%       6.000000  2000.000000   2004.000000   166.000000   712.250000  ...   \n",
       "max       9.000000  2010.000000   2010.000000  1600.000000  5644.000000  ...   \n",
       "\n",
       "        WoodDeckSF  OpenPorchSF  EnclosedPorch    3SsnPorch  ScreenPorch  \\\n",
       "count  1460.000000  1460.000000    1460.000000  1460.000000  1460.000000   \n",
       "mean     94.244521    46.660274      21.954110     3.409589    15.060959   \n",
       "std     125.338794    66.256028      61.119149    29.317331    55.757415   \n",
       "min       0.000000     0.000000       0.000000     0.000000     0.000000   \n",
       "25%       0.000000     0.000000       0.000000     0.000000     0.000000   \n",
       "50%       0.000000    25.000000       0.000000     0.000000     0.000000   \n",
       "75%     168.000000    68.000000       0.000000     0.000000     0.000000   \n",
       "max     857.000000   547.000000     552.000000   508.000000   480.000000   \n",
       "\n",
       "          PoolArea       MiscVal       MoSold       YrSold      SalePrice  \n",
       "count  1460.000000   1460.000000  1460.000000  1460.000000    1460.000000  \n",
       "mean      2.758904     43.489041     6.321918  2007.815753  180921.195890  \n",
       "std      40.177307    496.123024     2.703626     1.328095   79442.502883  \n",
       "min       0.000000      0.000000     1.000000  2006.000000   34900.000000  \n",
       "25%       0.000000      0.000000     5.000000  2007.000000  129975.000000  \n",
       "50%       0.000000      0.000000     6.000000  2008.000000  163000.000000  \n",
       "75%       0.000000      0.000000     8.000000  2009.000000  214000.000000  \n",
       "max     738.000000  15500.000000    12.000000  2010.000000  755000.000000  \n",
       "\n",
       "[8 rows x 38 columns]"
      ]
     },
     "execution_count": 3,
     "metadata": {},
     "output_type": "execute_result"
    }
   ],
   "source": [
    "X.describe()"
   ]
  },
  {
   "cell_type": "markdown",
   "id": "solid-mining",
   "metadata": {
    "papermill": {
     "duration": 0.038265,
     "end_time": "2021-06-07T01:37:22.565105",
     "exception": false,
     "start_time": "2021-06-07T01:37:22.526840",
     "status": "completed"
    },
    "tags": []
   },
   "source": [
    "<h4>Using Z-score to detect outliers</h4>"
   ]
  },
  {
   "cell_type": "code",
   "execution_count": 4,
   "id": "dedicated-winter",
   "metadata": {
    "_kg_hide-input": false,
    "_kg_hide-output": true,
    "execution": {
     "iopub.execute_input": "2021-06-07T01:37:22.652694Z",
     "iopub.status.busy": "2021-06-07T01:37:22.652006Z",
     "iopub.status.idle": "2021-06-07T01:37:22.662739Z",
     "shell.execute_reply": "2021-06-07T01:37:22.663402Z",
     "shell.execute_reply.started": "2021-06-07T01:27:08.59827Z"
    },
    "papermill": {
     "duration": 0.059845,
     "end_time": "2021-06-07T01:37:22.663646",
     "exception": false,
     "start_time": "2021-06-07T01:37:22.603801",
     "status": "completed"
    },
    "tags": []
   },
   "outputs": [
    {
     "name": "stdout",
     "output_type": "stream",
     "text": [
      "(array([   1,    3,    5,    7,    8,    9,    9,   17,   24,   26,   28,\n",
      "         33,   37,   39,   41,   46,   48,   48,   50,   51,   52,   53,\n",
      "         53,   53,   53,   55,   58,   64,   70,   72,   74,   78,   80,\n",
      "         88,   88,   93,   93,   93,  102,  104,  113,  116,  116,  118,\n",
      "        120,  125,  125,  129,  129,  137,  137,  144,  144,  153,  154,\n",
      "        159,  165,  165,  166,  166,  166,  169,  170,  176,  176,  178,\n",
      "        178,  178,  182,  185,  185,  185,  185,  185,  185,  185,  187,\n",
      "        188,  188,  188,  189,  189,  191,  196,  197,  197,  197,  197,\n",
      "        197,  198,  201,  205,  213,  215,  218,  218,  224,  224,  224,\n",
      "        233,  237,  241,  245,  246,  246,  249,  249,  250,  251,  253,\n",
      "        253,  258,  260,  260,  263,  263,  267,  271,  273,  278,  280,\n",
      "        289,  291,  291,  293,  297,  298,  298,  299,  300,  304,  304,\n",
      "        304,  304,  306,  309,  312,  312,  313,  313,  313,  314,  314,\n",
      "        322,  325,  326,  328,  330,  330,  330,  332,  335,  335,  335,\n",
      "        335,  339,  342,  343,  346,  349,  351,  352,  355,  357,  358,\n",
      "        358,  359,  360,  365,  366,  367,  375,  375,  378,  380,  384,\n",
      "        389,  398,  400,  406,  411,  414,  414,  420,  420,  421,  426,\n",
      "        426,  440,  440,  440,  440,  441,  446,  451,  454,  454,  457,\n",
      "        459,  461,  462,  470,  471,  473,  475,  477,  480,  488,  488,\n",
      "        493,  495,  496,  496,  496,  496,  496,  496,  499,  499,  504,\n",
      "        505,  508,  510,  519,  520,  520,  520,  523,  523,  523,  523,\n",
      "        523,  527,  529,  529,  533,  535,  539,  542,  546,  548,  550,\n",
      "        558,  570,  570,  574,  576,  577,  577,  580,  581,  581,  583,\n",
      "        583,  586,  588,  589,  591,  591,  597,  597,  599,  605,  605,\n",
      "        608,  611,  618,  624,  625,  628,  628,  630,  630,  633,  634,\n",
      "        634,  634,  635,  635,  635,  635,  635,  635,  637,  637,  642,\n",
      "        645,  647,  648,  653,  658,  660,  661,  661,  662,  664,  664,\n",
      "        664,  666,  666,  673,  676,  676,  678,  691,  691,  691,  691,\n",
      "        691,  691,  697,  697,  703,  703,  703,  704,  705,  705,  705,\n",
      "        706,  713,  713,  717,  718,  720,  726,  726,  728,  729,  735,\n",
      "        736,  738,  741,  743,  744,  745,  745,  747,  747,  764,  764,\n",
      "        769,  769,  769,  769,  769,  769,  774,  775,  778,  784,  785,\n",
      "        785,  795,  798,  798,  798,  799,  803,  803,  803,  807,  807,\n",
      "        809,  810,  813,  814,  825,  828,  828,  828,  828,  830,  836,\n",
      "        840,  842,  843,  843,  848,  848,  854,  854,  854,  859,  861,\n",
      "        873,  875,  883,  886,  887,  888,  888,  889,  890,  892,  893,\n",
      "        894,  897,  897,  897,  898,  898,  898,  907,  910,  910,  913,\n",
      "        918,  918,  919,  920,  921,  921,  921,  923,  924,  925,  931,\n",
      "        932,  939,  940,  941,  942,  942,  943,  944,  944,  945,  947,\n",
      "        952,  953,  954,  954,  955,  961,  961,  969,  974,  980,  984,\n",
      "        985,  991,  996, 1003, 1006, 1009, 1011, 1013, 1024, 1029, 1030,\n",
      "       1030, 1030, 1031, 1031, 1037, 1040, 1041, 1044, 1044, 1044, 1046,\n",
      "       1047, 1052, 1055, 1055, 1059, 1061, 1062, 1062, 1067, 1068, 1069,\n",
      "       1070, 1072, 1076, 1077, 1080, 1080, 1081, 1090, 1103, 1118, 1119,\n",
      "       1123, 1123, 1132, 1137, 1139, 1142, 1144, 1149, 1149, 1150, 1152,\n",
      "       1152, 1154, 1154, 1156, 1156, 1161, 1163, 1163, 1163, 1163, 1169,\n",
      "       1169, 1169, 1170, 1171, 1173, 1173, 1181, 1181, 1182, 1182, 1182,\n",
      "       1182, 1182, 1182, 1182, 1184, 1184, 1185, 1186, 1186, 1190, 1190,\n",
      "       1193, 1197, 1202, 1210, 1213, 1213, 1213, 1216, 1220, 1225, 1228,\n",
      "       1230, 1230, 1230, 1230, 1232, 1243, 1248, 1253, 1266, 1266, 1266,\n",
      "       1267, 1268, 1268, 1270, 1270, 1275, 1276, 1282, 1283, 1283, 1287,\n",
      "       1292, 1292, 1293, 1298, 1298, 1298, 1298, 1298, 1298, 1298, 1298,\n",
      "       1298, 1298, 1298, 1299, 1301, 1308, 1312, 1313, 1320, 1320, 1326,\n",
      "       1327, 1327, 1328, 1328, 1335, 1336, 1346, 1349, 1349, 1350, 1350,\n",
      "       1350, 1350, 1350, 1352, 1353, 1360, 1369, 1369, 1373, 1373, 1373,\n",
      "       1382, 1386, 1386, 1386, 1386, 1387, 1389, 1391, 1393, 1393, 1393,\n",
      "       1396, 1405, 1412, 1414, 1415, 1416, 1416, 1418, 1419, 1423, 1423,\n",
      "       1435, 1437, 1439, 1440, 1445, 1445, 1450, 1450, 1457, 1457, 1458,\n",
      "       1459]), array([18, 30, 31, 30, 22,  1, 22, 22, 10, 18, 29, 18, 18, 22, 18, 32,  1,\n",
      "       22, 18, 15, 10,  3, 17, 21, 28, 31, 37, 28,  9, 32, 22, 22, 32,  5,\n",
      "       15,  1, 18, 22, 22, 32, 10, 10, 18, 16, 31,  1, 15, 18, 31, 11, 22,\n",
      "       21, 22, 10, 30, 31,  1, 22, 10, 24, 28, 28, 15, 18, 32,  9, 27, 37,\n",
      "       31,  5, 15, 16, 23, 29, 32, 37, 31, 17, 20, 22, 21, 32,  5, 32, 15,\n",
      "       16, 18, 30, 33, 15, 18, 31, 18, 18,  5, 18, 11, 12, 13, 10, 31,  5,\n",
      "       18,  1, 22,  3, 18,  5, 18, 10, 18, 31, 10, 30, 10, 15, 15, 10, 10,\n",
      "       11, 31, 32,  1, 21, 29, 32, 18, 20, 18,  1,  5,  6, 14, 16, 30, 24,\n",
      "        1, 32,  3, 10, 17, 18, 30, 10, 30, 17, 30, 18, 21, 22, 12,  1,  3,\n",
      "       17, 28, 32, 22, 28, 34, 37, 32, 18, 10, 28, 18, 30, 32, 32, 30, 32,\n",
      "       18,  4,  5,  5, 30,  3, 37,  5, 32, 15,  1, 10, 18, 17, 22, 18, 18,\n",
      "       32, 10, 12, 13, 37, 22, 10,  3, 17, 22,  3, 30,  5, 30, 10, 32, 37,\n",
      "       32, 11, 28,  1, 22, 10, 29, 11, 12, 13, 16, 30, 37, 18, 29, 18, 22,\n",
      "        5, 34,  5,  1, 22, 30,  9, 12, 13, 16, 29, 37, 13, 22,  4,  1, 34,\n",
      "       10, 31, 10, 32, 18, 21, 22, 18, 18, 10, 30, 18, 11, 27,  5, 29, 10,\n",
      "       17, 15, 29, 37, 18, 20, 10, 24, 32, 16, 18, 32, 20, 32, 18, 20,  6,\n",
      "       30, 18, 17, 21, 22,  1, 15, 16, 21, 22, 23,  1, 22, 24, 29, 32, 30,\n",
      "       30, 18, 30,  3, 28, 30, 27, 29, 37, 10, 29, 32,  5, 22, 11, 12, 13,\n",
      "       14, 16, 18, 37, 10, 18,  1,  5, 22, 31,  1, 22, 34,  3,  1, 29, 18,\n",
      "       30, 30,  5, 31, 22, 15, 29, 22, 17, 18, 18, 31,  5, 18,  6, 30, 10,\n",
      "       32,  3, 16, 23, 28, 32, 37, 11, 29, 22, 29, 10, 32, 32, 11, 16, 37,\n",
      "       30, 23, 32, 37, 17, 29, 22, 33, 30, 18, 27, 10, 18, 28, 32, 32, 30,\n",
      "       30, 10, 21, 22,  3, 28, 10, 29, 32, 32,  1, 15, 29, 15, 22, 32, 10,\n",
      "       32, 31, 34, 18, 28, 22, 21, 22, 23,  9, 13, 37, 32, 22, 23, 22, 10,\n",
      "       30, 32, 18, 17, 20, 22, 10, 10, 18, 18, 11, 30, 22, 31, 17, 22, 22,\n",
      "       18, 32, 30, 29, 18, 18, 18, 22, 22, 28, 29,  1, 28,  5, 22,  1,  5,\n",
      "       29, 22, 18, 15, 22, 30, 13, 18,  1, 22, 30, 15, 23, 32, 10, 18, 12,\n",
      "       13, 28, 37, 18, 18, 18, 32, 10, 27,  1, 22, 32, 28, 18, 32, 18, 18,\n",
      "       10, 18, 31, 30, 22, 18, 18, 30,  5, 18,  6,  6, 30, 37,  1,  5, 18,\n",
      "       30, 10, 30, 20, 32, 18, 31, 31, 17, 20, 21, 22, 14, 16, 37, 33, 32,\n",
      "       15, 23, 18, 31,  9, 12, 13, 14, 16, 33, 37, 29, 32, 30,  1, 22,  1,\n",
      "       27, 29, 30, 30, 28,  5, 18, 21, 22, 10, 18, 32, 20, 22, 23, 34, 22,\n",
      "       37, 30, 10,  1, 22, 30, 11,  5, 16, 17, 21, 22, 18, 32, 20, 22, 18,\n",
      "       22, 29, 32,  3,  9, 12, 13, 16, 17, 23, 24, 27, 29, 33, 10, 32, 10,\n",
      "       28, 28, 10, 32, 30,  5, 18, 29, 32, 18, 22, 31,  6, 15, 18, 20, 21,\n",
      "       22, 23,  5, 16, 30, 10, 29, 12, 13, 37, 30, 23, 32, 33, 34, 10, 18,\n",
      "       22,  1, 22, 30,  3, 18, 22, 32, 18,  1, 22, 10, 30, 28, 33,  5, 31,\n",
      "       30, 15, 10, 30, 20, 22,  5, 34, 10, 28]))\n"
     ]
    }
   ],
   "source": [
    "numeric_cols = [col for col in X.columns if X[col].dtype in ['int64','float64']]\n",
    "z = np.abs(stats.zscore(X[numeric_cols]))\n",
    "threshold = 3\n",
    "print(np.where(z > 3))"
   ]
  },
  {
   "cell_type": "code",
   "execution_count": 5,
   "id": "floral-vector",
   "metadata": {
    "_kg_hide-output": true,
    "execution": {
     "iopub.execute_input": "2021-06-07T01:37:22.770285Z",
     "iopub.status.busy": "2021-06-07T01:37:22.750675Z",
     "iopub.status.idle": "2021-06-07T01:37:23.088625Z",
     "shell.execute_reply": "2021-06-07T01:37:23.089066Z",
     "shell.execute_reply.started": "2021-06-07T01:03:40.603091Z"
    },
    "papermill": {
     "duration": 0.384741,
     "end_time": "2021-06-07T01:37:23.089255",
     "exception": false,
     "start_time": "2021-06-07T01:37:22.704514",
     "status": "completed"
    },
    "tags": []
   },
   "outputs": [
    {
     "data": {
      "text/plain": [
       "<seaborn.axisgrid.FacetGrid at 0x7f3693051990>"
      ]
     },
     "execution_count": 5,
     "metadata": {},
     "output_type": "execute_result"
    },
    {
     "data": {
      "image/png": "[encoded data removed]",
      "text/plain": [
       "<Figure size 360x360 with 1 Axes>"
      ]
     },
     "metadata": {},
     "output_type": "display_data"
    }
   ],
   "source": [
    "sns.set_style(\"darkgrid\")\n",
    "sns.displot(X, x=y, kind=\"kde\")"
   ]
  },
  {
   "cell_type": "markdown",
   "id": "primary-bradley",
   "metadata": {
    "execution": {
     "iopub.execute_input": "2021-06-05T19:08:27.347971Z",
     "iopub.status.busy": "2021-06-05T19:08:27.347685Z",
     "iopub.status.idle": "2021-06-05T19:08:27.35585Z",
     "shell.execute_reply": "2021-06-05T19:08:27.353703Z",
     "shell.execute_reply.started": "2021-06-05T19:08:27.347943Z"
    },
    "papermill": {
     "duration": 0.039972,
     "end_time": "2021-06-07T01:37:23.170797",
     "exception": false,
     "start_time": "2021-06-07T01:37:23.130825",
     "status": "completed"
    },
    "tags": []
   },
   "source": [
    "<h4>Normalizing data</h4>"
   ]
  },
  {
   "cell_type": "code",
   "execution_count": 6,
   "id": "pharmaceutical-depth",
   "metadata": {
    "_kg_hide-output": true,
    "execution": {
     "iopub.execute_input": "2021-06-07T01:37:23.255180Z",
     "iopub.status.busy": "2021-06-07T01:37:23.254257Z",
     "iopub.status.idle": "2021-06-07T01:37:23.884000Z",
     "shell.execute_reply": "2021-06-07T01:37:23.883376Z",
     "shell.execute_reply.started": "2021-06-07T01:03:53.083635Z"
    },
    "papermill": {
     "duration": 0.673081,
     "end_time": "2021-06-07T01:37:23.884138",
     "exception": false,
     "start_time": "2021-06-07T01:37:23.211057",
     "status": "completed"
    },
    "tags": []
   },
   "outputs": [
    {
     "data": {
      "text/plain": [
       "Text(0.5, 1.0, 'normalized data')"
      ]
     },
     "execution_count": 6,
     "metadata": {},
     "output_type": "execute_result"
    },
    {
     "data": {
      "image/png": "[encoded data removed]",
      "text/plain": [
       "<Figure size 432x288 with 2 Axes>"
      ]
     },
     "metadata": {},
     "output_type": "display_data"
    }
   ],
   "source": [
    "normalized_data=stats.boxcox(y)\n",
    "fig,ax = plt.subplots(1,2)\n",
    "sns.distplot(y,ax=ax[0])\n",
    "ax[0].set_title(\"orginal data\")\n",
    "sns.distplot(normalized_data[0] , ax=ax[1])\n",
    "ax[1].set_title(\"normalized data\")"
   ]
  },
  {
   "cell_type": "markdown",
   "id": "returning-article",
   "metadata": {
    "papermill": {
     "duration": 0.04153,
     "end_time": "2021-06-07T01:37:23.967573",
     "exception": false,
     "start_time": "2021-06-07T01:37:23.926043",
     "status": "completed"
    },
    "tags": []
   },
   "source": [
    "# Important Information :\n",
    "\n",
    "Ok now we fixed positive sekew.We normalized the target using boxcox transformation.\n"
   ]
  },
  {
   "cell_type": "code",
   "execution_count": 7,
   "id": "straight-pursuit",
   "metadata": {
    "_kg_hide-output": true,
    "execution": {
     "iopub.execute_input": "2021-06-07T01:37:24.057038Z",
     "iopub.status.busy": "2021-06-07T01:37:24.056419Z",
     "iopub.status.idle": "2021-06-07T01:37:24.862661Z",
     "shell.execute_reply": "2021-06-07T01:37:24.863121Z",
     "shell.execute_reply.started": "2021-06-07T01:28:17.853251Z"
    },
    "papermill": {
     "duration": 0.853816,
     "end_time": "2021-06-07T01:37:24.863301",
     "exception": false,
     "start_time": "2021-06-07T01:37:24.009485",
     "status": "completed"
    },
    "tags": []
   },
   "outputs": [
    {
     "data": {
      "text/plain": [
       "<AxesSubplot:>"
      ]
     },
     "execution_count": 7,
     "metadata": {},
     "output_type": "execute_result"
    },
    {
     "data": {
      "image/png": "[encoded data removed]",
      "text/plain": [
       "<Figure size 648x648 with 2 Axes>"
      ]
     },
     "metadata": {},
     "output_type": "display_data"
    }
   ],
   "source": [
    "cor=X.corr()\n",
    "high_cor=cor.index[cor[\"SalePrice\"]>.5]\n",
    "plt.figure(figsize=(9,9))\n",
    "sns.heatmap(X[high_cor].corr(),annot=True,cmap='gnuplot2')"
   ]
  },
  {
   "cell_type": "markdown",
   "id": "continent-correlation",
   "metadata": {
    "papermill": {
     "duration": 0.044591,
     "end_time": "2021-06-07T01:37:24.952679",
     "exception": false,
     "start_time": "2021-06-07T01:37:24.908088",
     "status": "completed"
    },
    "tags": []
   },
   "source": [
    "# Improtant Information :\n",
    "\n",
    "1. Here we see correlation of all features based on saleprice or target.\n",
    "\n",
    "2. GarageCars and GarageArea both are high correlation with each others (0.88)\n",
    "\n",
    "3. TotRmsAbvGrd and GrLivArea both are high correlation with each others(0.83)\n",
    "\n",
    "4. TotalBsmtSF and 1stFlrSF both are high correlation with each others(0.82)"
   ]
  },
  {
   "cell_type": "code",
   "execution_count": 8,
   "id": "south-creator",
   "metadata": {
    "_kg_hide-output": true,
    "execution": {
     "iopub.execute_input": "2021-06-07T01:37:25.050232Z",
     "iopub.status.busy": "2021-06-07T01:37:25.049609Z",
     "iopub.status.idle": "2021-06-07T01:37:25.052903Z",
     "shell.execute_reply": "2021-06-07T01:37:25.052275Z",
     "shell.execute_reply.started": "2021-06-07T01:28:49.995051Z"
    },
    "papermill": {
     "duration": 0.055362,
     "end_time": "2021-06-07T01:37:25.053040",
     "exception": false,
     "start_time": "2021-06-07T01:37:24.997678",
     "status": "completed"
    },
    "tags": []
   },
   "outputs": [
    {
     "data": {
      "text/plain": [
       "SalePrice        1.000000\n",
       "OverallQual      0.790982\n",
       "GrLivArea        0.708624\n",
       "GarageCars       0.640409\n",
       "GarageArea       0.623431\n",
       "TotalBsmtSF      0.613581\n",
       "1stFlrSF         0.605852\n",
       "FullBath         0.560664\n",
       "TotRmsAbvGrd     0.533723\n",
       "YearBuilt        0.522897\n",
       "YearRemodAdd     0.507101\n",
       "GarageYrBlt      0.486362\n",
       "MasVnrArea       0.477493\n",
       "Fireplaces       0.466929\n",
       "BsmtFinSF1       0.386420\n",
       "LotFrontage      0.351799\n",
       "WoodDeckSF       0.324413\n",
       "2ndFlrSF         0.319334\n",
       "OpenPorchSF      0.315856\n",
       "HalfBath         0.284108\n",
       "LotArea          0.263843\n",
       "BsmtFullBath     0.227122\n",
       "BsmtUnfSF        0.214479\n",
       "BedroomAbvGr     0.168213\n",
       "ScreenPorch      0.111447\n",
       "PoolArea         0.092404\n",
       "MoSold           0.046432\n",
       "3SsnPorch        0.044584\n",
       "BsmtFinSF2      -0.011378\n",
       "BsmtHalfBath    -0.016844\n",
       "MiscVal         -0.021190\n",
       "Id              -0.021917\n",
       "LowQualFinSF    -0.025606\n",
       "YrSold          -0.028923\n",
       "OverallCond     -0.077856\n",
       "MSSubClass      -0.084284\n",
       "EnclosedPorch   -0.128578\n",
       "KitchenAbvGr    -0.135907\n",
       "Name: SalePrice, dtype: float64"
      ]
     },
     "execution_count": 8,
     "metadata": {},
     "output_type": "execute_result"
    }
   ],
   "source": [
    "cor['SalePrice'].sort_values(ascending=False)"
   ]
  },
  {
   "cell_type": "code",
   "execution_count": 9,
   "id": "returning-scale",
   "metadata": {
    "_kg_hide-output": true,
    "execution": {
     "iopub.execute_input": "2021-06-07T01:37:25.158603Z",
     "iopub.status.busy": "2021-06-07T01:37:25.150007Z",
     "iopub.status.idle": "2021-06-07T01:37:30.113871Z",
     "shell.execute_reply": "2021-06-07T01:37:30.113346Z",
     "shell.execute_reply.started": "2021-06-07T01:28:56.12348Z"
    },
    "papermill": {
     "duration": 5.015802,
     "end_time": "2021-06-07T01:37:30.114126",
     "exception": false,
     "start_time": "2021-06-07T01:37:25.098324",
     "status": "completed"
    },
    "tags": []
   },
   "outputs": [
    {
     "data": {
      "text/plain": [
       "<seaborn.axisgrid.PairGrid at 0x7f366113f890>"
      ]
     },
     "execution_count": 9,
     "metadata": {},
     "output_type": "execute_result"
    },
    {
     "data": {
      "image/png": "[encoded data removed]",
      "text/plain": [
       "<Figure size 1728x288 with 6 Axes>"
      ]
     },
     "metadata": {},
     "output_type": "display_data"
    },
    {
     "data": {
      "image/png": "[encoded data removed]",
      "text/plain": [
       "<Figure size 1728x288 with 6 Axes>"
      ]
     },
     "metadata": {},
     "output_type": "display_data"
    }
   ],
   "source": [
    "high_cor_feature = sns.PairGrid(X, y_vars=[\"SalePrice\"], x_vars=[\"OverallQual\",\"GrLivArea\",\"GarageCars\",\"GarageArea\",\"TotalBsmtSF\",\"1stFlrSF\"], height=4)\n",
    "high_cor_feature.map(sns.regplot)\n",
    "\n",
    "low_cor_feature = sns.PairGrid(X, y_vars=[\"SalePrice\"], x_vars=[\"LowQualFinSF\",\"YrSold\",\"OverallCond\",\"MSSubClass\",\"EnclosedPorch\",\"KitchenAbvGr\"], height=4)\n",
    "low_cor_feature.map(sns.regplot)"
   ]
  },
  {
   "cell_type": "markdown",
   "id": "exciting-bridges",
   "metadata": {
    "papermill": {
     "duration": 0.050216,
     "end_time": "2021-06-07T01:37:30.213774",
     "exception": false,
     "start_time": "2021-06-07T01:37:30.163558",
     "status": "completed"
    },
    "tags": []
   },
   "source": [
    "# Important Information:\n",
    "\n",
    "1. High correlation features draw a possitive regression line with saleprice or target.\n",
    "\n",
    "2. Low correlation features draw a negative regression line with saleprice or target.\n"
   ]
  },
  {
   "cell_type": "markdown",
   "id": "attached-blank",
   "metadata": {
    "papermill": {
     "duration": 0.050172,
     "end_time": "2021-06-07T01:37:30.314487",
     "exception": false,
     "start_time": "2021-06-07T01:37:30.264315",
     "status": "completed"
    },
    "tags": []
   },
   "source": [
    "# 1. OVERALLQUAL"
   ]
  },
  {
   "cell_type": "code",
   "execution_count": 10,
   "id": "original-lambda",
   "metadata": {
    "_kg_hide-output": true,
    "execution": {
     "iopub.execute_input": "2021-06-07T01:37:30.423570Z",
     "iopub.status.busy": "2021-06-07T01:37:30.422569Z",
     "iopub.status.idle": "2021-06-07T01:37:30.430070Z",
     "shell.execute_reply": "2021-06-07T01:37:30.430508Z",
     "shell.execute_reply.started": "2021-06-07T01:30:13.68778Z"
    },
    "papermill": {
     "duration": 0.066155,
     "end_time": "2021-06-07T01:37:30.430690",
     "exception": false,
     "start_time": "2021-06-07T01:37:30.364535",
     "status": "completed"
    },
    "tags": []
   },
   "outputs": [
    {
     "name": "stdout",
     "output_type": "stream",
     "text": [
      "   OverallQual      SalePrice\n",
      "0            1   50150.000000\n",
      "1            2   51770.333333\n",
      "2            3   87473.750000\n",
      "3            4  108420.655172\n",
      "4            5  133523.347607\n",
      "5            6  161603.034759\n",
      "6            7  207716.423197\n",
      "7            8  274735.535714\n",
      "8            9  367513.023256\n",
      "9           10  438588.388889\n"
     ]
    }
   ],
   "source": [
    "print (X[['OverallQual', 'SalePrice']].groupby(['OverallQual'], as_index=False).mean())"
   ]
  },
  {
   "cell_type": "markdown",
   "id": "northern-carter",
   "metadata": {
    "papermill": {
     "duration": 0.049659,
     "end_time": "2021-06-07T01:37:30.530240",
     "exception": false,
     "start_time": "2021-06-07T01:37:30.480581",
     "status": "completed"
    },
    "tags": []
   },
   "source": [
    "# 2. MSZONING"
   ]
  },
  {
   "cell_type": "code",
   "execution_count": 11,
   "id": "contrary-causing",
   "metadata": {
    "_kg_hide-output": true,
    "execution": {
     "iopub.execute_input": "2021-06-07T01:37:30.640721Z",
     "iopub.status.busy": "2021-06-07T01:37:30.638278Z",
     "iopub.status.idle": "2021-06-07T01:37:30.644571Z",
     "shell.execute_reply": "2021-06-07T01:37:30.645074Z",
     "shell.execute_reply.started": "2021-06-07T01:30:14.115076Z"
    },
    "papermill": {
     "duration": 0.065361,
     "end_time": "2021-06-07T01:37:30.645277",
     "exception": false,
     "start_time": "2021-06-07T01:37:30.579916",
     "status": "completed"
    },
    "tags": []
   },
   "outputs": [
    {
     "name": "stdout",
     "output_type": "stream",
     "text": [
      "  MSZoning      SalePrice\n",
      "0  C (all)   74528.000000\n",
      "1       FV  214014.061538\n",
      "2       RH  131558.375000\n",
      "3       RL  191004.994787\n",
      "4       RM  126316.830275\n"
     ]
    }
   ],
   "source": [
    "print(X[['MSZoning', 'SalePrice']].groupby(['MSZoning'], as_index=False).mean())\n"
   ]
  },
  {
   "cell_type": "markdown",
   "id": "level-listing",
   "metadata": {
    "papermill": {
     "duration": 0.051238,
     "end_time": "2021-06-07T01:37:30.747325",
     "exception": false,
     "start_time": "2021-06-07T01:37:30.696087",
     "status": "completed"
    },
    "tags": []
   },
   "source": [
    "# 3. GRLIVAREA"
   ]
  },
  {
   "cell_type": "code",
   "execution_count": 12,
   "id": "becoming-control",
   "metadata": {
    "_kg_hide-output": true,
    "execution": {
     "iopub.execute_input": "2021-06-07T01:37:30.852382Z",
     "iopub.status.busy": "2021-06-07T01:37:30.851725Z",
     "iopub.status.idle": "2021-06-07T01:37:30.872786Z",
     "shell.execute_reply": "2021-06-07T01:37:30.872052Z",
     "shell.execute_reply.started": "2021-06-07T01:30:14.467687Z"
    },
    "papermill": {
     "duration": 0.074746,
     "end_time": "2021-06-07T01:37:30.872998",
     "exception": false,
     "start_time": "2021-06-07T01:37:30.798252",
     "status": "completed"
    },
    "tags": []
   },
   "outputs": [
    {
     "name": "stdout",
     "output_type": "stream",
     "text": [
      "  CategoricalGrLivArea      SalePrice\n",
      "0    (328.692, 1395.6]  132458.402421\n",
      "1     (1395.6, 2457.2]  209856.795580\n",
      "2     (2457.2, 3518.8]  314621.333333\n",
      "3     (3518.8, 4580.4]  650000.000000\n",
      "4     (4580.4, 5642.0]  172375.000000\n"
     ]
    }
   ],
   "source": [
    "X['CategoricalGrLivArea'] = pd.cut(X['GrLivArea'], 5)\n",
    "print(X[['CategoricalGrLivArea','SalePrice']].groupby(['CategoricalGrLivArea'], as_index=False).mean())"
   ]
  },
  {
   "cell_type": "markdown",
   "id": "tracked-guatemala",
   "metadata": {
    "papermill": {
     "duration": 0.050853,
     "end_time": "2021-06-07T01:37:30.975764",
     "exception": false,
     "start_time": "2021-06-07T01:37:30.924911",
     "status": "completed"
    },
    "tags": []
   },
   "source": [
    "# 4. GARAGECARS"
   ]
  },
  {
   "cell_type": "code",
   "execution_count": 13,
   "id": "delayed-organ",
   "metadata": {
    "_kg_hide-output": true,
    "execution": {
     "iopub.execute_input": "2021-06-07T01:37:31.086324Z",
     "iopub.status.busy": "2021-06-07T01:37:31.085347Z",
     "iopub.status.idle": "2021-06-07T01:37:31.093334Z",
     "shell.execute_reply": "2021-06-07T01:37:31.092824Z",
     "shell.execute_reply.started": "2021-06-07T01:30:14.772912Z"
    },
    "papermill": {
     "duration": 0.066516,
     "end_time": "2021-06-07T01:37:31.093472",
     "exception": false,
     "start_time": "2021-06-07T01:37:31.026956",
     "status": "completed"
    },
    "tags": []
   },
   "outputs": [
    {
     "name": "stdout",
     "output_type": "stream",
     "text": [
      "   GarageCars      SalePrice\n",
      "0           0  103317.283951\n",
      "1           1  128116.688347\n",
      "2           2  183851.663835\n",
      "3           3  309636.121547\n",
      "4           4  192655.800000\n"
     ]
    }
   ],
   "source": [
    "print(X[['GarageCars','SalePrice']].groupby(['GarageCars'], as_index=False).mean())"
   ]
  },
  {
   "cell_type": "markdown",
   "id": "vietnamese-rolling",
   "metadata": {
    "papermill": {
     "duration": 0.050876,
     "end_time": "2021-06-07T01:37:31.196536",
     "exception": false,
     "start_time": "2021-06-07T01:37:31.145660",
     "status": "completed"
    },
    "tags": []
   },
   "source": [
    "# 5. TOTALBSMTSF"
   ]
  },
  {
   "cell_type": "code",
   "execution_count": 14,
   "id": "cordless-clearance",
   "metadata": {
    "_kg_hide-output": true,
    "execution": {
     "iopub.execute_input": "2021-06-07T01:37:31.315009Z",
     "iopub.status.busy": "2021-06-07T01:37:31.310699Z",
     "iopub.status.idle": "2021-06-07T01:37:31.318816Z",
     "shell.execute_reply": "2021-06-07T01:37:31.318268Z",
     "shell.execute_reply.started": "2021-06-07T01:30:15.68984Z"
    },
    "papermill": {
     "duration": 0.070665,
     "end_time": "2021-06-07T01:37:31.318975",
     "exception": false,
     "start_time": "2021-06-07T01:37:31.248310",
     "status": "completed"
    },
    "tags": []
   },
   "outputs": [
    {
     "name": "stdout",
     "output_type": "stream",
     "text": [
      "  CategoricalTotalBsmtSF      SalePrice\n",
      "0        (-6.11, 1222.0]  153526.177043\n",
      "1       (1222.0, 2444.0]  244615.967059\n",
      "2       (2444.0, 3666.0]  366375.000000\n",
      "3       (3666.0, 4888.0]            NaN\n",
      "4       (4888.0, 6110.0]  160000.000000\n"
     ]
    }
   ],
   "source": [
    "X['CategoricalTotalBsmtSF'] = pd.cut(X['TotalBsmtSF'], 5)\n",
    "print(X[['CategoricalTotalBsmtSF','SalePrice']].groupby(['CategoricalTotalBsmtSF'], as_index=False).mean())"
   ]
  },
  {
   "cell_type": "markdown",
   "id": "limiting-attitude",
   "metadata": {
    "papermill": {
     "duration": 0.050957,
     "end_time": "2021-06-07T01:37:31.421507",
     "exception": false,
     "start_time": "2021-06-07T01:37:31.370550",
     "status": "completed"
    },
    "tags": []
   },
   "source": [
    "# 6. 1STFLRSF"
   ]
  },
  {
   "cell_type": "code",
   "execution_count": 15,
   "id": "muslim-transcription",
   "metadata": {
    "_kg_hide-output": true,
    "execution": {
     "iopub.execute_input": "2021-06-07T01:37:31.531355Z",
     "iopub.status.busy": "2021-06-07T01:37:31.530385Z",
     "iopub.status.idle": "2021-06-07T01:37:31.543031Z",
     "shell.execute_reply": "2021-06-07T01:37:31.542558Z",
     "shell.execute_reply.started": "2021-06-07T01:30:16.039526Z"
    },
    "papermill": {
     "duration": 0.070334,
     "end_time": "2021-06-07T01:37:31.543165",
     "exception": false,
     "start_time": "2021-06-07T01:37:31.472831",
     "status": "completed"
    },
    "tags": []
   },
   "outputs": [
    {
     "name": "stdout",
     "output_type": "stream",
     "text": [
      "  Categorical1stFlrSF      SalePrice\n",
      "0   (329.642, 1205.6]  150379.302222\n",
      "1    (1205.6, 2077.2]  223830.560150\n",
      "2    (2077.2, 2948.8]  358038.640000\n",
      "3    (2948.8, 3820.4]  307375.000000\n",
      "4    (3820.4, 4692.0]  160000.000000\n"
     ]
    }
   ],
   "source": [
    "X['Categorical1stFlrSF'] = pd.cut(X['1stFlrSF'], 5)\n",
    "print(X[['Categorical1stFlrSF','SalePrice']].groupby(['Categorical1stFlrSF'], as_index=False).mean())"
   ]
  },
  {
   "cell_type": "markdown",
   "id": "satisfactory-uruguay",
   "metadata": {
    "papermill": {
     "duration": 0.051288,
     "end_time": "2021-06-07T01:37:31.646272",
     "exception": false,
     "start_time": "2021-06-07T01:37:31.594984",
     "status": "completed"
    },
    "tags": []
   },
   "source": [
    "# 7. YRSOLD"
   ]
  },
  {
   "cell_type": "code",
   "execution_count": 16,
   "id": "allied-kitty",
   "metadata": {
    "_kg_hide-output": true,
    "execution": {
     "iopub.execute_input": "2021-06-07T01:37:31.761207Z",
     "iopub.status.busy": "2021-06-07T01:37:31.757452Z",
     "iopub.status.idle": "2021-06-07T01:37:31.764436Z",
     "shell.execute_reply": "2021-06-07T01:37:31.764914Z",
     "shell.execute_reply.started": "2021-06-07T01:30:16.383863Z"
    },
    "papermill": {
     "duration": 0.066123,
     "end_time": "2021-06-07T01:37:31.765073",
     "exception": false,
     "start_time": "2021-06-07T01:37:31.698950",
     "status": "completed"
    },
    "tags": []
   },
   "outputs": [
    {
     "name": "stdout",
     "output_type": "stream",
     "text": [
      "   YrSold      SalePrice\n",
      "0    2006  182549.458599\n",
      "1    2007  186063.151976\n",
      "2    2008  177360.838816\n",
      "3    2009  179432.103550\n",
      "4    2010  177393.674286\n"
     ]
    }
   ],
   "source": [
    "print (X[['YrSold', 'SalePrice']].groupby(['YrSold'], as_index=False).mean())"
   ]
  },
  {
   "cell_type": "markdown",
   "id": "amazing-story",
   "metadata": {
    "papermill": {
     "duration": 0.051965,
     "end_time": "2021-06-07T01:37:31.869256",
     "exception": false,
     "start_time": "2021-06-07T01:37:31.817291",
     "status": "completed"
    },
    "tags": []
   },
   "source": [
    "# 8. KITCHENABVGR"
   ]
  },
  {
   "cell_type": "code",
   "execution_count": 17,
   "id": "massive-arrest",
   "metadata": {
    "_kg_hide-output": true,
    "execution": {
     "iopub.execute_input": "2021-06-07T01:37:31.981329Z",
     "iopub.status.busy": "2021-06-07T01:37:31.980659Z",
     "iopub.status.idle": "2021-06-07T01:37:31.986446Z",
     "shell.execute_reply": "2021-06-07T01:37:31.986881Z",
     "shell.execute_reply.started": "2021-06-07T01:30:16.735166Z"
    },
    "papermill": {
     "duration": 0.065481,
     "end_time": "2021-06-07T01:37:31.987050",
     "exception": false,
     "start_time": "2021-06-07T01:37:31.921569",
     "status": "completed"
    },
    "tags": []
   },
   "outputs": [
    {
     "name": "stdout",
     "output_type": "stream",
     "text": [
      "   KitchenAbvGr      SalePrice\n",
      "0             0  127500.000000\n",
      "1             1  183388.790230\n",
      "2             2  131096.153846\n",
      "3             3  109500.000000\n"
     ]
    }
   ],
   "source": [
    "print (X[['KitchenAbvGr', 'SalePrice']].groupby(['KitchenAbvGr'], as_index=False).mean())"
   ]
  },
  {
   "cell_type": "markdown",
   "id": "respected-liberty",
   "metadata": {
    "papermill": {
     "duration": 0.052733,
     "end_time": "2021-06-07T01:37:32.092411",
     "exception": false,
     "start_time": "2021-06-07T01:37:32.039678",
     "status": "completed"
    },
    "tags": []
   },
   "source": [
    "# 9. YEARBUILT"
   ]
  },
  {
   "cell_type": "code",
   "execution_count": 18,
   "id": "solid-retirement",
   "metadata": {
    "execution": {
     "iopub.execute_input": "2021-06-07T01:37:32.210145Z",
     "iopub.status.busy": "2021-06-07T01:37:32.206117Z",
     "iopub.status.idle": "2021-06-07T01:37:32.213680Z",
     "shell.execute_reply": "2021-06-07T01:37:32.214200Z",
     "shell.execute_reply.started": "2021-06-07T01:30:22.144695Z"
    },
    "papermill": {
     "duration": 0.070173,
     "end_time": "2021-06-07T01:37:32.214376",
     "exception": false,
     "start_time": "2021-06-07T01:37:32.144203",
     "status": "completed"
    },
    "tags": []
   },
   "outputs": [
    {
     "name": "stdout",
     "output_type": "stream",
     "text": [
      "  CategoricalYearBuilt      SalePrice\n",
      "0   (1871.862, 1899.6]  180458.600000\n",
      "1     (1899.6, 1927.2]  125605.169811\n",
      "2     (1927.2, 1954.8]  134707.981043\n",
      "3     (1954.8, 1982.4]  152570.409091\n",
      "4     (1982.4, 2010.0]  235531.950931\n"
     ]
    }
   ],
   "source": [
    "X['CategoricalYearBuilt'] = pd.cut(X['YearBuilt'], 5)\n",
    "print (X[['CategoricalYearBuilt', 'SalePrice']].groupby(['CategoricalYearBuilt'], as_index=False).mean())"
   ]
  },
  {
   "cell_type": "markdown",
   "id": "northern-participant",
   "metadata": {
    "papermill": {
     "duration": 0.052392,
     "end_time": "2021-06-07T01:37:32.319673",
     "exception": false,
     "start_time": "2021-06-07T01:37:32.267281",
     "status": "completed"
    },
    "tags": []
   },
   "source": []
  },
  {
   "cell_type": "markdown",
   "id": "confirmed-maintenance",
   "metadata": {
    "papermill": {
     "duration": 0.052216,
     "end_time": "2021-06-07T01:37:32.424201",
     "exception": false,
     "start_time": "2021-06-07T01:37:32.371985",
     "status": "completed"
    },
    "tags": []
   },
   "source": [
    "# 10. OVERALLCOND \n"
   ]
  },
  {
   "cell_type": "code",
   "execution_count": 19,
   "id": "beautiful-twenty",
   "metadata": {
    "execution": {
     "iopub.execute_input": "2021-06-07T01:37:32.540056Z",
     "iopub.status.busy": "2021-06-07T01:37:32.536712Z",
     "iopub.status.idle": "2021-06-07T01:37:32.548522Z",
     "shell.execute_reply": "2021-06-07T01:37:32.548030Z",
     "shell.execute_reply.started": "2021-06-07T01:08:20.567075Z"
    },
    "papermill": {
     "duration": 0.07167,
     "end_time": "2021-06-07T01:37:32.548660",
     "exception": false,
     "start_time": "2021-06-07T01:37:32.476990",
     "status": "completed"
    },
    "tags": []
   },
   "outputs": [
    {
     "name": "stdout",
     "output_type": "stream",
     "text": [
      "  CategoricalOverallCond      SalePrice\n",
      "0           (0.992, 2.6]  128488.666667\n",
      "1             (2.6, 4.2]  114795.439024\n",
      "2             (4.2, 5.8]  203146.914738\n",
      "3             (5.8, 7.4]  155838.393873\n",
      "4             (7.4, 9.0]  169776.861702\n"
     ]
    }
   ],
   "source": [
    "X['CategoricalOverallCond'] = pd.cut(X['OverallCond'], 5)\n",
    "print (X[['CategoricalOverallCond', 'SalePrice']].groupby(['CategoricalOverallCond'], as_index=False).mean())"
   ]
  },
  {
   "cell_type": "markdown",
   "id": "direct-cradle",
   "metadata": {
    "papermill": {
     "duration": 0.052794,
     "end_time": "2021-06-07T01:37:32.654540",
     "exception": false,
     "start_time": "2021-06-07T01:37:32.601746",
     "status": "completed"
    },
    "tags": []
   },
   "source": [
    "# Observation :\n",
    " Look at the variation of saleprice. High correlation features impact more on saleprice, on the other hand low correlation features impact less on saleprice . Here YrSold and KitchenAbvGr impact less on saleprice and yearbuilt has an impact on the SalesPrice.Here from 2006-2010 house price remains same on average."
   ]
  },
  {
   "cell_type": "markdown",
   "id": "limited-tokyo",
   "metadata": {
    "papermill": {
     "duration": 0.053864,
     "end_time": "2021-06-07T01:37:32.761580",
     "exception": false,
     "start_time": "2021-06-07T01:37:32.707716",
     "status": "completed"
    },
    "tags": []
   },
   "source": [
    "<h3>3. Data Clean</h3>"
   ]
  },
  {
   "cell_type": "code",
   "execution_count": 20,
   "id": "wrong-brunswick",
   "metadata": {
    "execution": {
     "iopub.execute_input": "2021-06-07T01:37:32.875674Z",
     "iopub.status.busy": "2021-06-07T01:37:32.875012Z",
     "iopub.status.idle": "2021-06-07T01:37:32.906011Z",
     "shell.execute_reply": "2021-06-07T01:37:32.906538Z",
     "shell.execute_reply.started": "2021-06-07T01:09:03.259914Z"
    },
    "papermill": {
     "duration": 0.091795,
     "end_time": "2021-06-07T01:37:32.906708",
     "exception": false,
     "start_time": "2021-06-07T01:37:32.814913",
     "status": "completed"
    },
    "tags": []
   },
   "outputs": [],
   "source": [
    "#Droped the target variable, the train and test data\n",
    "\n",
    "test_id = test['Id']\n",
    "total_data = pd.concat([X, test], axis=0, sort=False)\n",
    "total_data = total_data.drop(['Id', 'SalePrice'], axis=1)"
   ]
  },
  {
   "cell_type": "code",
   "execution_count": 21,
   "id": "independent-atlas",
   "metadata": {
    "_kg_hide-output": true,
    "execution": {
     "iopub.execute_input": "2021-06-07T01:37:33.024106Z",
     "iopub.status.busy": "2021-06-07T01:37:33.023509Z",
     "iopub.status.idle": "2021-06-07T01:37:33.096764Z",
     "shell.execute_reply": "2021-06-07T01:37:33.097299Z",
     "shell.execute_reply.started": "2021-06-07T01:32:04.757123Z"
    },
    "papermill": {
     "duration": 0.137408,
     "end_time": "2021-06-07T01:37:33.097497",
     "exception": false,
     "start_time": "2021-06-07T01:37:32.960089",
     "status": "completed"
    },
    "tags": []
   },
   "outputs": [
    {
     "data": {
      "text/html": [
       "<div>\n",
       "<style scoped>\n",
       "    .dataframe tbody tr th:only-of-type {\n",
       "        vertical-align: middle;\n",
       "    }\n",
       "\n",
       "    .dataframe tbody tr th {\n",
       "        vertical-align: top;\n",
       "    }\n",
       "\n",
       "    .dataframe thead th {\n",
       "        text-align: right;\n",
       "    }\n",
       "</style>\n",
       "<table border=\"1\" class=\"dataframe\">\n",
       "  <thead>\n",
       "    <tr style=\"text-align: right;\">\n",
       "      <th></th>\n",
       "      <th>missing</th>\n",
       "      <th>percent</th>\n",
       "    </tr>\n",
       "  </thead>\n",
       "  <tbody>\n",
       "    <tr>\n",
       "      <th>PoolQC</th>\n",
       "      <td>2909</td>\n",
       "      <td>99.657417</td>\n",
       "    </tr>\n",
       "    <tr>\n",
       "      <th>MiscFeature</th>\n",
       "      <td>2814</td>\n",
       "      <td>96.402878</td>\n",
       "    </tr>\n",
       "    <tr>\n",
       "      <th>Alley</th>\n",
       "      <td>2721</td>\n",
       "      <td>93.216855</td>\n",
       "    </tr>\n",
       "    <tr>\n",
       "      <th>Fence</th>\n",
       "      <td>2348</td>\n",
       "      <td>80.438506</td>\n",
       "    </tr>\n",
       "    <tr>\n",
       "      <th>CategoricalOverallCond</th>\n",
       "      <td>1459</td>\n",
       "      <td>49.982871</td>\n",
       "    </tr>\n",
       "    <tr>\n",
       "      <th>CategoricalYearBuilt</th>\n",
       "      <td>1459</td>\n",
       "      <td>49.982871</td>\n",
       "    </tr>\n",
       "    <tr>\n",
       "      <th>Categorical1stFlrSF</th>\n",
       "      <td>1459</td>\n",
       "      <td>49.982871</td>\n",
       "    </tr>\n",
       "    <tr>\n",
       "      <th>CategoricalTotalBsmtSF</th>\n",
       "      <td>1459</td>\n",
       "      <td>49.982871</td>\n",
       "    </tr>\n",
       "    <tr>\n",
       "      <th>CategoricalGrLivArea</th>\n",
       "      <td>1459</td>\n",
       "      <td>49.982871</td>\n",
       "    </tr>\n",
       "    <tr>\n",
       "      <th>FireplaceQu</th>\n",
       "      <td>1420</td>\n",
       "      <td>48.646797</td>\n",
       "    </tr>\n",
       "  </tbody>\n",
       "</table>\n",
       "</div>"
      ],
      "text/plain": [
       "                        missing    percent\n",
       "PoolQC                     2909  99.657417\n",
       "MiscFeature                2814  96.402878\n",
       "Alley                      2721  93.216855\n",
       "Fence                      2348  80.438506\n",
       "CategoricalOverallCond     1459  49.982871\n",
       "CategoricalYearBuilt       1459  49.982871\n",
       "Categorical1stFlrSF        1459  49.982871\n",
       "CategoricalTotalBsmtSF     1459  49.982871\n",
       "CategoricalGrLivArea       1459  49.982871\n",
       "FireplaceQu                1420  48.646797"
      ]
     },
     "execution_count": 21,
     "metadata": {},
     "output_type": "execute_result"
    }
   ],
   "source": [
    "#Count Missing values and the percentage of missing values\n",
    "\n",
    "missing_values_count = total_data.isnull().sum().sort_values(ascending=False)\n",
    "percent= (total_data.isnull().sum() / total_data.isnull().count().sort_values(ascending=False)*100)\n",
    "missing_data = pd.concat([missing_values_count,percent], axis=1, keys=['missing', 'percent'])\n",
    "missing_data.head(10)"
   ]
  },
  {
   "cell_type": "code",
   "execution_count": 22,
   "id": "executed-mongolia",
   "metadata": {
    "_kg_hide-input": false,
    "_kg_hide-output": true,
    "execution": {
     "iopub.execute_input": "2021-06-07T01:37:33.225397Z",
     "iopub.status.busy": "2021-06-07T01:37:33.216584Z",
     "iopub.status.idle": "2021-06-07T01:37:33.233665Z",
     "shell.execute_reply": "2021-06-07T01:37:33.233127Z",
     "shell.execute_reply.started": "2021-06-07T01:32:18.57391Z"
    },
    "papermill": {
     "duration": 0.078349,
     "end_time": "2021-06-07T01:37:33.233798",
     "exception": false,
     "start_time": "2021-06-07T01:37:33.155449",
     "status": "completed"
    },
    "tags": []
   },
   "outputs": [
    {
     "data": {
      "text/plain": [
       "MSZoning        4\n",
       "Functional      2\n",
       "BsmtFullBath    2\n",
       "BsmtHalfBath    2\n",
       "Utilities       2\n",
       "BsmtFinSF2      1\n",
       "Exterior2nd     1\n",
       "GarageCars      1\n",
       "GarageArea      1\n",
       "BsmtFinSF1      1\n",
       "BsmtUnfSF       1\n",
       "Exterior1st     1\n",
       "TotalBsmtSF     1\n",
       "Electrical      1\n",
       "SaleType        1\n",
       "KitchenQual     1\n",
       "HalfBath        0\n",
       "FullBath        0\n",
       "BedroomAbvGr    0\n",
       "KitchenAbvGr    0\n",
       "dtype: int64"
      ]
     },
     "execution_count": 22,
     "metadata": {},
     "output_type": "execute_result"
    }
   ],
   "source": [
    "total_data.drop(missing_data[missing_data['missing']>4].index,axis=1,inplace=True)\n",
    "#total_data.drop(['Name'],axis=1,inplace=True)\n",
    "a=total_data.isnull().sum().sort_values(ascending=False)\n",
    "\n",
    "a.head(20)"
   ]
  },
  {
   "cell_type": "markdown",
   "id": "enclosed-brown",
   "metadata": {
    "papermill": {
     "duration": 0.053693,
     "end_time": "2021-06-07T01:37:33.341882",
     "exception": false,
     "start_time": "2021-06-07T01:37:33.288189",
     "status": "completed"
    },
    "tags": []
   },
   "source": []
  },
  {
   "cell_type": "code",
   "execution_count": 23,
   "id": "varied-chart",
   "metadata": {
    "_kg_hide-output": true,
    "execution": {
     "iopub.execute_input": "2021-06-07T01:37:33.465883Z",
     "iopub.status.busy": "2021-06-07T01:37:33.464361Z",
     "iopub.status.idle": "2021-06-07T01:37:33.523995Z",
     "shell.execute_reply": "2021-06-07T01:37:33.523385Z",
     "shell.execute_reply.started": "2021-06-07T01:33:23.347298Z"
    },
    "papermill": {
     "duration": 0.127216,
     "end_time": "2021-06-07T01:37:33.524130",
     "exception": false,
     "start_time": "2021-06-07T01:37:33.396914",
     "status": "completed"
    },
    "tags": []
   },
   "outputs": [
    {
     "name": "stdout",
     "output_type": "stream",
     "text": [
      "<class 'pandas.core.frame.DataFrame'>\n",
      "Int64Index: 2919 entries, 0 to 1458\n",
      "Data columns (total 61 columns):\n",
      " #   Column         Non-Null Count  Dtype  \n",
      "---  ------         --------------  -----  \n",
      " 0   MSSubClass     2919 non-null   int64  \n",
      " 1   MSZoning       2919 non-null   int64  \n",
      " 2   LotArea        2919 non-null   int64  \n",
      " 3   Street         2919 non-null   int64  \n",
      " 4   LotShape       2919 non-null   int64  \n",
      " 5   LandContour    2919 non-null   int64  \n",
      " 6   Utilities      2919 non-null   int64  \n",
      " 7   LotConfig      2919 non-null   int64  \n",
      " 8   LandSlope      2919 non-null   int64  \n",
      " 9   Neighborhood   2919 non-null   int64  \n",
      " 10  Condition1     2919 non-null   int64  \n",
      " 11  Condition2     2919 non-null   int64  \n",
      " 12  BldgType       2919 non-null   int64  \n",
      " 13  HouseStyle     2919 non-null   int64  \n",
      " 14  OverallQual    2919 non-null   int64  \n",
      " 15  OverallCond    2919 non-null   int64  \n",
      " 16  YearBuilt      2919 non-null   int64  \n",
      " 17  YearRemodAdd   2919 non-null   int64  \n",
      " 18  RoofStyle      2919 non-null   int64  \n",
      " 19  RoofMatl       2919 non-null   int64  \n",
      " 20  Exterior1st    2919 non-null   int64  \n",
      " 21  Exterior2nd    2919 non-null   int64  \n",
      " 22  ExterQual      2919 non-null   int64  \n",
      " 23  ExterCond      2919 non-null   int64  \n",
      " 24  Foundation     2919 non-null   int64  \n",
      " 25  BsmtFinSF1     2918 non-null   float64\n",
      " 26  BsmtFinSF2     2918 non-null   float64\n",
      " 27  BsmtUnfSF      2918 non-null   float64\n",
      " 28  TotalBsmtSF    2918 non-null   float64\n",
      " 29  Heating        2919 non-null   int64  \n",
      " 30  HeatingQC      2919 non-null   int64  \n",
      " 31  CentralAir     2919 non-null   int64  \n",
      " 32  Electrical     2919 non-null   int64  \n",
      " 33  1stFlrSF       2919 non-null   int64  \n",
      " 34  2ndFlrSF       2919 non-null   int64  \n",
      " 35  LowQualFinSF   2919 non-null   int64  \n",
      " 36  GrLivArea      2919 non-null   int64  \n",
      " 37  BsmtFullBath   2917 non-null   float64\n",
      " 38  BsmtHalfBath   2917 non-null   float64\n",
      " 39  FullBath       2919 non-null   int64  \n",
      " 40  HalfBath       2919 non-null   int64  \n",
      " 41  BedroomAbvGr   2919 non-null   int64  \n",
      " 42  KitchenAbvGr   2919 non-null   int64  \n",
      " 43  KitchenQual    2919 non-null   int64  \n",
      " 44  TotRmsAbvGrd   2919 non-null   int64  \n",
      " 45  Functional     2919 non-null   int64  \n",
      " 46  Fireplaces     2919 non-null   int64  \n",
      " 47  GarageCars     2918 non-null   float64\n",
      " 48  GarageArea     2918 non-null   float64\n",
      " 49  PavedDrive     2919 non-null   int64  \n",
      " 50  WoodDeckSF     2919 non-null   int64  \n",
      " 51  OpenPorchSF    2919 non-null   int64  \n",
      " 52  EnclosedPorch  2919 non-null   int64  \n",
      " 53  3SsnPorch      2919 non-null   int64  \n",
      " 54  ScreenPorch    2919 non-null   int64  \n",
      " 55  PoolArea       2919 non-null   int64  \n",
      " 56  MiscVal        2919 non-null   int64  \n",
      " 57  MoSold         2919 non-null   int64  \n",
      " 58  YrSold         2919 non-null   int64  \n",
      " 59  SaleType       2919 non-null   int64  \n",
      " 60  SaleCondition  2919 non-null   int64  \n",
      "dtypes: float64(8), int64(53)\n",
      "memory usage: 1.4 MB\n"
     ]
    }
   ],
   "source": [
    "from sklearn.preprocessing import LabelEncoder\n",
    "object_cols = [col for col in total_data.columns if total_data[col].dtype == \"object\"]\n",
    "label_encoder=LabelEncoder()\n",
    "for col in object_cols:\n",
    "    total_data[col]=label_encoder.fit_transform(total_data[col])\n",
    "total_data.info()\n"
   ]
  },
  {
   "cell_type": "code",
   "execution_count": 24,
   "id": "first-christianity",
   "metadata": {
    "_kg_hide-output": true,
    "execution": {
     "iopub.execute_input": "2021-06-07T01:37:33.641065Z",
     "iopub.status.busy": "2021-06-07T01:37:33.640439Z",
     "iopub.status.idle": "2021-06-07T01:37:33.676675Z",
     "shell.execute_reply": "2021-06-07T01:37:33.675975Z",
     "shell.execute_reply.started": "2021-06-07T01:33:31.021129Z"
    },
    "papermill": {
     "duration": 0.097217,
     "end_time": "2021-06-07T01:37:33.676813",
     "exception": false,
     "start_time": "2021-06-07T01:37:33.579596",
     "status": "completed"
    },
    "tags": []
   },
   "outputs": [
    {
     "data": {
      "text/plain": [
       "MSSubClass      0\n",
       "CentralAir      0\n",
       "1stFlrSF        0\n",
       "2ndFlrSF        0\n",
       "LowQualFinSF    0\n",
       "GrLivArea       0\n",
       "BsmtFullBath    0\n",
       "BsmtHalfBath    0\n",
       "FullBath        0\n",
       "HalfBath        0\n",
       "dtype: int64"
      ]
     },
     "execution_count": 24,
     "metadata": {},
     "output_type": "execute_result"
    }
   ],
   "source": [
    "from sklearn.impute import SimpleImputer\n",
    "numeric_cols = [col for col in total_data.columns if total_data[col].dtype in ['int64','float64']]\n",
    "my_imputer=SimpleImputer(strategy='median')\n",
    "data = pd.DataFrame(my_imputer.fit_transform(total_data))\n",
    "data.columns = total_data.columns\n",
    "a=data.isnull().sum().sort_values(ascending=False)\n",
    "a.head(10)"
   ]
  },
  {
   "cell_type": "markdown",
   "id": "incident-character",
   "metadata": {
    "papermill": {
     "duration": 0.054359,
     "end_time": "2021-06-07T01:37:33.787536",
     "exception": false,
     "start_time": "2021-06-07T01:37:33.733177",
     "status": "completed"
    },
    "tags": []
   },
   "source": [
    "<h3>4. Feature Engineering</h3>"
   ]
  },
  {
   "cell_type": "code",
   "execution_count": 25,
   "id": "eligible-interference",
   "metadata": {
    "execution": {
     "iopub.execute_input": "2021-06-07T01:37:33.904976Z",
     "iopub.status.busy": "2021-06-07T01:37:33.903936Z",
     "iopub.status.idle": "2021-06-07T01:37:33.951265Z",
     "shell.execute_reply": "2021-06-07T01:37:33.950708Z",
     "shell.execute_reply.started": "2021-06-07T01:34:12.325178Z"
    },
    "papermill": {
     "duration": 0.108977,
     "end_time": "2021-06-07T01:37:33.951418",
     "exception": false,
     "start_time": "2021-06-07T01:37:33.842441",
     "status": "completed"
    },
    "tags": []
   },
   "outputs": [],
   "source": [
    "skewed_feats = data[numeric_cols].apply(lambda x: skew(x)).sort_values(ascending=False)\n",
    "for feature in skewed_feats.index:\n",
    "    data[feature] = np.log1p(data[feature])"
   ]
  },
  {
   "cell_type": "markdown",
   "id": "drawn-present",
   "metadata": {
    "papermill": {
     "duration": 0.055591,
     "end_time": "2021-06-07T01:37:34.062513",
     "exception": false,
     "start_time": "2021-06-07T01:37:34.006922",
     "status": "completed"
    },
    "tags": []
   },
   "source": [
    "<h4>Separating the Train and Test Data</h4>"
   ]
  },
  {
   "cell_type": "code",
   "execution_count": 26,
   "id": "monthly-appointment",
   "metadata": {
    "_kg_hide-output": true,
    "execution": {
     "iopub.execute_input": "2021-06-07T01:37:34.180406Z",
     "iopub.status.busy": "2021-06-07T01:37:34.179312Z",
     "iopub.status.idle": "2021-06-07T01:37:34.209361Z",
     "shell.execute_reply": "2021-06-07T01:37:34.210172Z",
     "shell.execute_reply.started": "2021-06-07T01:34:39.787804Z"
    },
    "papermill": {
     "duration": 0.091975,
     "end_time": "2021-06-07T01:37:34.210441",
     "exception": false,
     "start_time": "2021-06-07T01:37:34.118466",
     "status": "completed"
    },
    "tags": []
   },
   "outputs": [
    {
     "name": "stdout",
     "output_type": "stream",
     "text": [
      "<class 'pandas.core.frame.DataFrame'>\n",
      "RangeIndex: 1460 entries, 0 to 1459\n",
      "Data columns (total 61 columns):\n",
      " #   Column         Non-Null Count  Dtype  \n",
      "---  ------         --------------  -----  \n",
      " 0   MSSubClass     1460 non-null   float64\n",
      " 1   MSZoning       1460 non-null   float64\n",
      " 2   LotArea        1460 non-null   float64\n",
      " 3   Street         1460 non-null   float64\n",
      " 4   LotShape       1460 non-null   float64\n",
      " 5   LandContour    1460 non-null   float64\n",
      " 6   Utilities      1460 non-null   float64\n",
      " 7   LotConfig      1460 non-null   float64\n",
      " 8   LandSlope      1460 non-null   float64\n",
      " 9   Neighborhood   1460 non-null   float64\n",
      " 10  Condition1     1460 non-null   float64\n",
      " 11  Condition2     1460 non-null   float64\n",
      " 12  BldgType       1460 non-null   float64\n",
      " 13  HouseStyle     1460 non-null   float64\n",
      " 14  OverallQual    1460 non-null   float64\n",
      " 15  OverallCond    1460 non-null   float64\n",
      " 16  YearBuilt      1460 non-null   float64\n",
      " 17  YearRemodAdd   1460 non-null   float64\n",
      " 18  RoofStyle      1460 non-null   float64\n",
      " 19  RoofMatl       1460 non-null   float64\n",
      " 20  Exterior1st    1460 non-null   float64\n",
      " 21  Exterior2nd    1460 non-null   float64\n",
      " 22  ExterQual      1460 non-null   float64\n",
      " 23  ExterCond      1460 non-null   float64\n",
      " 24  Foundation     1460 non-null   float64\n",
      " 25  BsmtFinSF1     1460 non-null   float64\n",
      " 26  BsmtFinSF2     1460 non-null   float64\n",
      " 27  BsmtUnfSF      1460 non-null   float64\n",
      " 28  TotalBsmtSF    1460 non-null   float64\n",
      " 29  Heating        1460 non-null   float64\n",
      " 30  HeatingQC      1460 non-null   float64\n",
      " 31  CentralAir     1460 non-null   float64\n",
      " 32  Electrical     1460 non-null   float64\n",
      " 33  1stFlrSF       1460 non-null   float64\n",
      " 34  2ndFlrSF       1460 non-null   float64\n",
      " 35  LowQualFinSF   1460 non-null   float64\n",
      " 36  GrLivArea      1460 non-null   float64\n",
      " 37  BsmtFullBath   1460 non-null   float64\n",
      " 38  BsmtHalfBath   1460 non-null   float64\n",
      " 39  FullBath       1460 non-null   float64\n",
      " 40  HalfBath       1460 non-null   float64\n",
      " 41  BedroomAbvGr   1460 non-null   float64\n",
      " 42  KitchenAbvGr   1460 non-null   float64\n",
      " 43  KitchenQual    1460 non-null   float64\n",
      " 44  TotRmsAbvGrd   1460 non-null   float64\n",
      " 45  Functional     1460 non-null   float64\n",
      " 46  Fireplaces     1460 non-null   float64\n",
      " 47  GarageCars     1460 non-null   float64\n",
      " 48  GarageArea     1460 non-null   float64\n",
      " 49  PavedDrive     1460 non-null   float64\n",
      " 50  WoodDeckSF     1460 non-null   float64\n",
      " 51  OpenPorchSF    1460 non-null   float64\n",
      " 52  EnclosedPorch  1460 non-null   float64\n",
      " 53  3SsnPorch      1460 non-null   float64\n",
      " 54  ScreenPorch    1460 non-null   float64\n",
      " 55  PoolArea       1460 non-null   float64\n",
      " 56  MiscVal        1460 non-null   float64\n",
      " 57  MoSold         1460 non-null   float64\n",
      " 58  YrSold         1460 non-null   float64\n",
      " 59  SaleType       1460 non-null   float64\n",
      " 60  SaleCondition  1460 non-null   float64\n",
      "dtypes: float64(61)\n",
      "memory usage: 695.9 KB\n",
      "<class 'pandas.core.frame.DataFrame'>\n",
      "RangeIndex: 1459 entries, 1460 to 2918\n",
      "Data columns (total 61 columns):\n",
      " #   Column         Non-Null Count  Dtype  \n",
      "---  ------         --------------  -----  \n",
      " 0   MSSubClass     1459 non-null   float64\n",
      " 1   MSZoning       1459 non-null   float64\n",
      " 2   LotArea        1459 non-null   float64\n",
      " 3   Street         1459 non-null   float64\n",
      " 4   LotShape       1459 non-null   float64\n",
      " 5   LandContour    1459 non-null   float64\n",
      " 6   Utilities      1459 non-null   float64\n",
      " 7   LotConfig      1459 non-null   float64\n",
      " 8   LandSlope      1459 non-null   float64\n",
      " 9   Neighborhood   1459 non-null   float64\n",
      " 10  Condition1     1459 non-null   float64\n",
      " 11  Condition2     1459 non-null   float64\n",
      " 12  BldgType       1459 non-null   float64\n",
      " 13  HouseStyle     1459 non-null   float64\n",
      " 14  OverallQual    1459 non-null   float64\n",
      " 15  OverallCond    1459 non-null   float64\n",
      " 16  YearBuilt      1459 non-null   float64\n",
      " 17  YearRemodAdd   1459 non-null   float64\n",
      " 18  RoofStyle      1459 non-null   float64\n",
      " 19  RoofMatl       1459 non-null   float64\n",
      " 20  Exterior1st    1459 non-null   float64\n",
      " 21  Exterior2nd    1459 non-null   float64\n",
      " 22  ExterQual      1459 non-null   float64\n",
      " 23  ExterCond      1459 non-null   float64\n",
      " 24  Foundation     1459 non-null   float64\n",
      " 25  BsmtFinSF1     1459 non-null   float64\n",
      " 26  BsmtFinSF2     1459 non-null   float64\n",
      " 27  BsmtUnfSF      1459 non-null   float64\n",
      " 28  TotalBsmtSF    1459 non-null   float64\n",
      " 29  Heating        1459 non-null   float64\n",
      " 30  HeatingQC      1459 non-null   float64\n",
      " 31  CentralAir     1459 non-null   float64\n",
      " 32  Electrical     1459 non-null   float64\n",
      " 33  1stFlrSF       1459 non-null   float64\n",
      " 34  2ndFlrSF       1459 non-null   float64\n",
      " 35  LowQualFinSF   1459 non-null   float64\n",
      " 36  GrLivArea      1459 non-null   float64\n",
      " 37  BsmtFullBath   1459 non-null   float64\n",
      " 38  BsmtHalfBath   1459 non-null   float64\n",
      " 39  FullBath       1459 non-null   float64\n",
      " 40  HalfBath       1459 non-null   float64\n",
      " 41  BedroomAbvGr   1459 non-null   float64\n",
      " 42  KitchenAbvGr   1459 non-null   float64\n",
      " 43  KitchenQual    1459 non-null   float64\n",
      " 44  TotRmsAbvGrd   1459 non-null   float64\n",
      " 45  Functional     1459 non-null   float64\n",
      " 46  Fireplaces     1459 non-null   float64\n",
      " 47  GarageCars     1459 non-null   float64\n",
      " 48  GarageArea     1459 non-null   float64\n",
      " 49  PavedDrive     1459 non-null   float64\n",
      " 50  WoodDeckSF     1459 non-null   float64\n",
      " 51  OpenPorchSF    1459 non-null   float64\n",
      " 52  EnclosedPorch  1459 non-null   float64\n",
      " 53  3SsnPorch      1459 non-null   float64\n",
      " 54  ScreenPorch    1459 non-null   float64\n",
      " 55  PoolArea       1459 non-null   float64\n",
      " 56  MiscVal        1459 non-null   float64\n",
      " 57  MoSold         1459 non-null   float64\n",
      " 58  YrSold         1459 non-null   float64\n",
      " 59  SaleType       1459 non-null   float64\n",
      " 60  SaleCondition  1459 non-null   float64\n",
      "dtypes: float64(61)\n",
      "memory usage: 695.4 KB\n"
     ]
    }
   ],
   "source": [
    "x_train =data[:len(y)]\n",
    "x_test = data[len(y):]\n",
    "x_train.info()\n",
    "x_test.info()"
   ]
  },
  {
   "cell_type": "markdown",
   "id": "sixth-theme",
   "metadata": {
    "papermill": {
     "duration": 0.054506,
     "end_time": "2021-06-07T01:37:34.327033",
     "exception": false,
     "start_time": "2021-06-07T01:37:34.272527",
     "status": "completed"
    },
    "tags": []
   },
   "source": [
    "<h3>Machine Learning</h3>\n"
   ]
  },
  {
   "cell_type": "markdown",
   "id": "stuffed-fitness",
   "metadata": {
    "papermill": {
     "duration": 0.054338,
     "end_time": "2021-06-07T01:37:34.435129",
     "exception": false,
     "start_time": "2021-06-07T01:37:34.380791",
     "status": "completed"
    },
    "tags": []
   },
   "source": [
    "<h4>1. Using XGBOOST</h4>\n"
   ]
  },
  {
   "cell_type": "code",
   "execution_count": 27,
   "id": "legislative-harvey",
   "metadata": {
    "_kg_hide-output": true,
    "execution": {
     "iopub.execute_input": "2021-06-07T01:37:34.551011Z",
     "iopub.status.busy": "2021-06-07T01:37:34.550416Z",
     "iopub.status.idle": "2021-06-07T01:37:41.096072Z",
     "shell.execute_reply": "2021-06-07T01:37:41.097040Z",
     "shell.execute_reply.started": "2021-06-07T01:35:31.548944Z"
    },
    "papermill": {
     "duration": 6.607939,
     "end_time": "2021-06-07T01:37:41.097265",
     "exception": false,
     "start_time": "2021-06-07T01:37:34.489326",
     "status": "completed"
    },
    "tags": []
   },
   "outputs": [
    {
     "data": {
      "text/plain": [
       "XGBRegressor(base_score=0.5, booster='gbtree', colsample_bylevel=1,\n",
       "             colsample_bynode=1, colsample_bytree=1, gamma=0, gpu_id=-1,\n",
       "             importance_type='gain', interaction_constraints='',\n",
       "             learning_rate=0.05, max_delta_step=0, max_depth=6,\n",
       "             min_child_weight=1, missing=nan, monotone_constraints='()',\n",
       "             n_estimators=2000, n_jobs=4, num_parallel_tree=1, random_state=0,\n",
       "             reg_alpha=0, reg_lambda=1, scale_pos_weight=1, subsample=1,\n",
       "             tree_method='exact', validate_parameters=1, verbosity=None)"
      ]
     },
     "execution_count": 27,
     "metadata": {},
     "output_type": "execute_result"
    }
   ],
   "source": [
    "\n",
    "model =XGB.XGBRegressor(n_estimators=2000, learning_rate=0.05, n_jobs=4)\n",
    "model.fit(x_train, y)"
   ]
  },
  {
   "cell_type": "markdown",
   "id": "satisfied-injury",
   "metadata": {
    "papermill": {
     "duration": 0.071352,
     "end_time": "2021-06-07T01:37:41.231965",
     "exception": false,
     "start_time": "2021-06-07T01:37:41.160613",
     "status": "completed"
    },
    "tags": []
   },
   "source": [
    "<h4> Predicting </h4>\n"
   ]
  },
  {
   "cell_type": "code",
   "execution_count": 28,
   "id": "moved-location",
   "metadata": {
    "execution": {
     "iopub.execute_input": "2021-06-07T01:37:41.347215Z",
     "iopub.status.busy": "2021-06-07T01:37:41.346275Z",
     "iopub.status.idle": "2021-06-07T01:37:41.423123Z",
     "shell.execute_reply": "2021-06-07T01:37:41.422412Z",
     "shell.execute_reply.started": "2021-06-07T01:35:57.811225Z"
    },
    "papermill": {
     "duration": 0.134926,
     "end_time": "2021-06-07T01:37:41.423293",
     "exception": false,
     "start_time": "2021-06-07T01:37:41.288367",
     "status": "completed"
    },
    "tags": []
   },
   "outputs": [],
   "source": [
    "predictions = model.predict(x_test)\n"
   ]
  },
  {
   "cell_type": "code",
   "execution_count": 29,
   "id": "russian-brake",
   "metadata": {
    "_kg_hide-output": true,
    "execution": {
     "iopub.execute_input": "2021-06-07T01:37:41.560782Z",
     "iopub.status.busy": "2021-06-07T01:37:41.559809Z",
     "iopub.status.idle": "2021-06-07T01:37:41.571861Z",
     "shell.execute_reply": "2021-06-07T01:37:41.572385Z",
     "shell.execute_reply.started": "2021-06-07T01:36:12.693646Z"
    },
    "papermill": {
     "duration": 0.078303,
     "end_time": "2021-06-07T01:37:41.572555",
     "exception": false,
     "start_time": "2021-06-07T01:37:41.494252",
     "status": "completed"
    },
    "tags": []
   },
   "outputs": [
    {
     "data": {
      "text/html": [
       "<div>\n",
       "<style scoped>\n",
       "    .dataframe tbody tr th:only-of-type {\n",
       "        vertical-align: middle;\n",
       "    }\n",
       "\n",
       "    .dataframe tbody tr th {\n",
       "        vertical-align: top;\n",
       "    }\n",
       "\n",
       "    .dataframe thead th {\n",
       "        text-align: right;\n",
       "    }\n",
       "</style>\n",
       "<table border=\"1\" class=\"dataframe\">\n",
       "  <thead>\n",
       "    <tr style=\"text-align: right;\">\n",
       "      <th></th>\n",
       "      <th>Id</th>\n",
       "      <th>SalePrice</th>\n",
       "    </tr>\n",
       "  </thead>\n",
       "  <tbody>\n",
       "    <tr>\n",
       "      <th>0</th>\n",
       "      <td>1461</td>\n",
       "      <td>127148.593750</td>\n",
       "    </tr>\n",
       "    <tr>\n",
       "      <th>1</th>\n",
       "      <td>1462</td>\n",
       "      <td>158048.656250</td>\n",
       "    </tr>\n",
       "    <tr>\n",
       "      <th>2</th>\n",
       "      <td>1463</td>\n",
       "      <td>183729.218750</td>\n",
       "    </tr>\n",
       "    <tr>\n",
       "      <th>3</th>\n",
       "      <td>1464</td>\n",
       "      <td>187819.812500</td>\n",
       "    </tr>\n",
       "    <tr>\n",
       "      <th>4</th>\n",
       "      <td>1465</td>\n",
       "      <td>196973.468750</td>\n",
       "    </tr>\n",
       "    <tr>\n",
       "      <th>5</th>\n",
       "      <td>1466</td>\n",
       "      <td>172649.109375</td>\n",
       "    </tr>\n",
       "    <tr>\n",
       "      <th>6</th>\n",
       "      <td>1467</td>\n",
       "      <td>173481.140625</td>\n",
       "    </tr>\n",
       "    <tr>\n",
       "      <th>7</th>\n",
       "      <td>1468</td>\n",
       "      <td>169075.796875</td>\n",
       "    </tr>\n",
       "    <tr>\n",
       "      <th>8</th>\n",
       "      <td>1469</td>\n",
       "      <td>178845.062500</td>\n",
       "    </tr>\n",
       "    <tr>\n",
       "      <th>9</th>\n",
       "      <td>1470</td>\n",
       "      <td>121776.367188</td>\n",
       "    </tr>\n",
       "  </tbody>\n",
       "</table>\n",
       "</div>"
      ],
      "text/plain": [
       "     Id      SalePrice\n",
       "0  1461  127148.593750\n",
       "1  1462  158048.656250\n",
       "2  1463  183729.218750\n",
       "3  1464  187819.812500\n",
       "4  1465  196973.468750\n",
       "5  1466  172649.109375\n",
       "6  1467  173481.140625\n",
       "7  1468  169075.796875\n",
       "8  1469  178845.062500\n",
       "9  1470  121776.367188"
      ]
     },
     "execution_count": 29,
     "metadata": {},
     "output_type": "execute_result"
    }
   ],
   "source": [
    "sub = pd.DataFrame()\n",
    "sub['Id'] = test_id\n",
    "sub['SalePrice'] = predictions\n",
    "sub.to_csv('mysubmission.csv',index=False)\n",
    "sub.head(10)"
   ]
  },
  {
   "cell_type": "code",
   "execution_count": null,
   "id": "forbidden-ready",
   "metadata": {
    "papermill": {
     "duration": 0.056531,
     "end_time": "2021-06-07T01:37:41.687477",
     "exception": false,
     "start_time": "2021-06-07T01:37:41.630946",
     "status": "completed"
    },
    "tags": []
   },
   "outputs": [],
   "source": []
  }
 ],
 "metadata": {
  "kernelspec": {
   "display_name": "Python 3",
   "language": "python",
   "name": "python3"
  },
  "language_info": {
   "codemirror_mode": {
    "name": "ipython",
    "version": 3
   },
   "file_extension": ".py",
   "mimetype": "text/x-python",
   "name": "python",
   "nbconvert_exporter": "python",
   "pygments_lexer": "ipython3",
   "version": "3.7.10"
  },
  "papermill": {
   "default_parameters": {},
   "duration": 29.537467,
   "end_time": "2021-06-07T01:37:42.453155",
   "environment_variables": {},
   "exception": null,
   "input_path": "__notebook__.ipynb",
   "output_path": "__notebook__.ipynb",
   "parameters": {},
   "start_time": "2021-06-07T01:37:12.915688",
   "version": "2.3.3"
  }
 },
 "nbformat": 4,
 "nbformat_minor": 5
}
